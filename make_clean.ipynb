{
 "cells": [
  {
   "cell_type": "code",
   "execution_count": 21,
   "id": "f5b0cc5d-f638-4c28-8df6-9aed7f1e8f11",
   "metadata": {},
   "outputs": [],
   "source": [
    "import numpy as np\n",
    "import os"
   ]
  },
  {
   "cell_type": "code",
   "execution_count": 16,
   "id": "a8d827bb-fd98-4d67-bcab-c2a3b71c131c",
   "metadata": {},
   "outputs": [],
   "source": [
    "def load_outputs(*dset_names):\n",
    "    for dset_name in dset_names:\n",
    "        for path in outputs_load_paths:\n",
    "            filename = os.path.join(path, f'{dset_name}.npz')\n",
    "            if os.path.exists(filename):\n",
    "                print(filename)\n",
    "                outputs = np.load(filename, allow_pickle=True)\n",
    "                break\n",
    "        else:\n",
    "            raise FileNotFoundError(f'{dset_name}.npz')\n",
    "        for d in ['logits', 'labels', 'classes']:\n",
    "           globals()[d][dset_name] = outputs[d]"
   ]
  },
  {
   "cell_type": "code",
   "execution_count": 2,
   "id": "564a9942-f8ab-416c-bf3e-a68282462871",
   "metadata": {},
   "outputs": [],
   "source": [
    "new_labels = np.genfromtxt('new_labels.csv', delimiter=',', dtype='i8')"
   ]
  },
  {
   "cell_type": "code",
   "execution_count": 11,
   "id": "d487116a-757f-48b7-8111-4842495c741e",
   "metadata": {},
   "outputs": [],
   "source": [
    "baduns = new_labels == -1\n",
    "gooduns = new_labels != -1"
   ]
  },
  {
   "cell_type": "code",
   "execution_count": 15,
   "id": "b4cce06b-3f3f-4c7a-b8dc-e71c0812bdf2",
   "metadata": {},
   "outputs": [
    {
     "data": {
      "text/plain": [
       "array([  0,   0,   0, ..., 999, 999, 999])"
      ]
     },
     "execution_count": 15,
     "metadata": {},
     "output_type": "execute_result"
    }
   ],
   "source": [
    "new_labels[gooduns]"
   ]
  },
  {
   "cell_type": "code",
   "execution_count": 17,
   "id": "0760926e-d344-46ac-b2ca-a3f27968c22e",
   "metadata": {},
   "outputs": [],
   "source": [
    "model_names = ['resnet18', 'resnet50', 'vgg16', 'vit_base_patch16_224']"
   ]
  },
  {
   "cell_type": "code",
   "execution_count": 39,
   "id": "f5be9abf-5573-4045-a864-579085023c7e",
   "metadata": {},
   "outputs": [],
   "source": [
    "model_name = model_names[3]"
   ]
  },
  {
   "cell_type": "code",
   "execution_count": 40,
   "id": "fd5ab988-d5f0-48f4-be94-b582aa7d6e03",
   "metadata": {},
   "outputs": [],
   "source": [
    "logits, labels, classes = {}, {}, {}\n",
    "outputs_load_paths = [f'outputs/{model_name}', f'/mnt/SHARED/Julian/feature_density_ood/notebooks/outputs/{model_name}']"
   ]
  },
  {
   "cell_type": "code",
   "execution_count": 41,
   "id": "8492aa75-0b9b-4857-8008-ded6484511a6",
   "metadata": {},
   "outputs": [
    {
     "name": "stdout",
     "output_type": "stream",
     "text": [
      "/mnt/SHARED/Julian/feature_density_ood/notebooks/outputs/vit_base_patch16_224/imagenet_val.npz\n"
     ]
    }
   ],
   "source": [
    "load_outputs('imagenet_val')"
   ]
  },
  {
   "cell_type": "code",
   "execution_count": 42,
   "id": "a6240aaf-957a-4eb9-9046-f7b251d90efd",
   "metadata": {},
   "outputs": [],
   "source": [
    "save_fn = os.path.join(f'outputs/{model_name}', 'imagenet_val_clean')"
   ]
  },
  {
   "cell_type": "code",
   "execution_count": 44,
   "id": "cb7080c4-d673-4422-8ed5-45b2a176d03a",
   "metadata": {},
   "outputs": [],
   "source": [
    "np.savez(save_fn, logits=logits['imagenet_val'][gooduns], labels=labels['imagenet_val'][gooduns], classes=classes['imagenet_val'])"
   ]
  }
 ],
 "metadata": {
  "kernelspec": {
   "display_name": "Python 3 (ipykernel)",
   "language": "python",
   "name": "python3"
  },
  "language_info": {
   "codemirror_mode": {
    "name": "ipython",
    "version": 3
   },
   "file_extension": ".py",
   "mimetype": "text/x-python",
   "name": "python",
   "nbconvert_exporter": "python",
   "pygments_lexer": "ipython3",
   "version": "3.9.7"
  }
 },
 "nbformat": 4,
 "nbformat_minor": 5
}
