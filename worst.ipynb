{
 "cells": [
  {
   "cell_type": "code",
   "execution_count": 1,
   "id": "2a9ff487-b18a-4c26-bb36-d7a23d2e88db",
   "metadata": {},
   "outputs": [],
   "source": [
    "import inspect"
   ]
  },
  {
   "cell_type": "code",
   "execution_count": 2,
   "id": "9e2877f2-06a8-4ae6-86b9-b8455e5a23a7",
   "metadata": {},
   "outputs": [],
   "source": [
    "%load_ext autoreload\n",
    "%autoreload 2"
   ]
  },
  {
   "cell_type": "code",
   "execution_count": 115,
   "id": "2a1c6cd4-34fe-485f-9037-0ec924a94812",
   "metadata": {},
   "outputs": [],
   "source": [
    "import numpy as np\n",
    "import os\n",
    "import sys\n",
    "import matplotlib.pyplot as plt\n",
    "from sklearn import decomposition\n",
    "from scipy.stats import norm\n",
    "import scipy.stats\n",
    "from sklearn.manifold import TSNE\n",
    "import seaborn as sns\n",
    "from pathlib import Path\n",
    "import collections\n",
    "import itertools\n",
    "from numpy import linalg as LA"
   ]
  },
  {
   "cell_type": "code",
   "execution_count": 24,
   "id": "bee428c7-25a9-476e-a01d-65914163f69f",
   "metadata": {},
   "outputs": [],
   "source": [
    "def get_predictions(logits:np.ndarray) -> np.ndarray:\n",
    "    preds = {'logits': logits,\n",
    "             'predicted_classes': logits.argmax(axis=1),\n",
    "             'class_probabilities': scipy.special.softmax(logits, axis=1),\n",
    "             'confidences_classifier': scipy.special.softmax(logits, axis=1).max(axis=1),\n",
    "            }\n",
    "    preds['number_of_class_predictions'] = collections.Counter(preds['predicted_classes'])\n",
    "    return preds"
   ]
  },
  {
   "cell_type": "code",
   "execution_count": 25,
   "id": "a1764505-3fe1-4910-8bd0-e3ba366d2ada",
   "metadata": {},
   "outputs": [],
   "source": [
    "features, logits, labels, classes = {}, {}, {}, {}"
   ]
  },
  {
   "cell_type": "code",
   "execution_count": 26,
   "id": "df5f92c4-5ea1-483e-aa0d-4455cec49c07",
   "metadata": {},
   "outputs": [],
   "source": [
    "mod = ''\n",
    "model_name = f\"vit_base_patch16_224{mod}\""
   ]
  },
  {
   "cell_type": "code",
   "execution_count": 27,
   "id": "98221b2f-8826-4495-9d4a-52679fe816ca",
   "metadata": {},
   "outputs": [],
   "source": [
    "outputs_load_path = f'/mnt/SHARED/Julian/feature_density_ood/notebooks/outputs/{model_name}'"
   ]
  },
  {
   "cell_type": "code",
   "execution_count": 28,
   "id": "fee7095f-161d-4304-bd1b-227906ae8852",
   "metadata": {},
   "outputs": [],
   "source": [
    "def load_outputs(*dset_names):\n",
    "    for dset_name in dset_names:\n",
    "        outputs = np.load(os.path.join(outputs_load_path, f'{dset_name}.npz'), allow_pickle=True)\n",
    "        for d in ['features', 'logits', 'labels', 'classes']:\n",
    "           globals()[d][dset_name] = outputs[d]"
   ]
  },
  {
   "cell_type": "code",
   "execution_count": 29,
   "id": "e8f0edff-69d3-492f-b10e-b552f395dbab",
   "metadata": {},
   "outputs": [],
   "source": [
    "load_outputs('raccoons', 'imagenet_val', 'Food101', 'textures', 'OOD_Places_MOS', 'iNaturalist')"
   ]
  },
  {
   "cell_type": "code",
   "execution_count": 30,
   "id": "d64d1600-5be6-4f96-84fc-a0f14e8e707f",
   "metadata": {},
   "outputs": [],
   "source": [
    "predictions_IN_val = get_predictions(logits['imagenet_val'])"
   ]
  },
  {
   "cell_type": "code",
   "execution_count": 31,
   "id": "e76e185f-03b4-4c01-86ce-d8b7d36bdafa",
   "metadata": {},
   "outputs": [
    {
     "data": {
      "text/plain": [
       "array([  0,   0,   0, ..., 846, 333, 999])"
      ]
     },
     "execution_count": 31,
     "metadata": {},
     "output_type": "execute_result"
    }
   ],
   "source": [
    "predictions_IN_val['predicted_classes']"
   ]
  },
  {
   "cell_type": "code",
   "execution_count": 65,
   "id": "e54515d6-4eac-4d25-b0b2-c6d2dc0a2de1",
   "metadata": {},
   "outputs": [],
   "source": [
    "def standard_accuracy(logits, targets):\n",
    "    preds = get_predictions(logits)\n",
    "    accuracy = (preds['predicted_classes'] == targets).mean()\n",
    "    return accuracy"
   ]
  },
  {
   "cell_type": "code",
   "execution_count": 33,
   "id": "76c9e9c1-c611-44d5-9bed-7f4942dca07a",
   "metadata": {},
   "outputs": [],
   "source": [
    "def classwise_accuracies(logits, targets):\n",
    "    preds = get_predictions(logits)\n",
    "    clw_acc = {}\n",
    "    for i in set(targets):\n",
    "        clw_acc[i] = np.equal(preds['predicted_classes'][np.where(targets == i)], i).mean()\n",
    "    return clw_acc"
   ]
  },
  {
   "cell_type": "code",
   "execution_count": 34,
   "id": "0e683e51-4c72-4457-a51d-a788fcdfa84a",
   "metadata": {},
   "outputs": [],
   "source": [
    "def worst_class_accuracy(logits, targets):\n",
    "    cwa = classwise_accuracies(logits, targets)\n",
    "    return min(cwa.items(), key=lambda x: x[1])"
   ]
  },
  {
   "cell_type": "code",
   "execution_count": 35,
   "id": "2bd2d556-2502-47d9-aef5-51e63600540e",
   "metadata": {},
   "outputs": [],
   "source": [
    "def worst_balanced_n_classes_accuracy(logits, targets, n):\n",
    "    cwa = classwise_accuracies(logits, targets)\n",
    "    sorted_cwa =  sorted(cwa.items(), key=lambda item: item[1])\n",
    "    n_worst = sorted_cwa[:n]\n",
    "    return np.array([x[1] for x in n_worst]).mean(), n_worst"
   ]
  },
  {
   "cell_type": "code",
   "execution_count": 36,
   "id": "76509e3f-4470-401c-9b90-f922fee53dce",
   "metadata": {},
   "outputs": [],
   "source": [
    "def worst_balanced_two_class_binary_accuracy(logits, targets):\n",
    "    classes = list(set(targets))\n",
    "    binary_accuracies = {}\n",
    "    for i,j in itertools.combinations(classes, 2):\n",
    "        i_labelled = logits[np.where(targets == i)]\n",
    "        j_labelled = logits[np.where(targets == j)]\n",
    "        i_correct = np.greater(i_labelled[:,i], i_labelled[:,j]).mean()\n",
    "        j_correct = np.greater(j_labelled[:,j], j_labelled[:,i]).mean()\n",
    "        binary_accuracies[(i,j)] = (i_correct + j_correct)/2\n",
    "    sorted_binary_accuracies = sorted(binary_accuracies.items(), key=lambda item: item[1])\n",
    "    return sorted_binary_accuracies[0][1], sorted_binary_accuracies[0], sorted_binary_accuracies, binary_accuracies"
   ]
  },
  {
   "cell_type": "code",
   "execution_count": 37,
   "id": "75c1630e-0133-4cf0-9349-9ec5a4c8cbfb",
   "metadata": {},
   "outputs": [],
   "source": [
    "def worst_balanced_superclass_accuracy(logits, targets, superclasses):\n",
    "    cwa = classwise_accuracies(logits, targets)\n",
    "    scwa = {s: np.array([cwa[c] for c in s]).mean() for s in superclasses}\n",
    "    return min(scwa.items(), key=lambda x: x[1])"
   ]
  },
  {
   "cell_type": "code",
   "execution_count": 97,
   "id": "f10cead4-7535-4de0-9492-d2a6f728db5a",
   "metadata": {},
   "outputs": [],
   "source": [
    "def inter_superclass_accuracies(logits, targets, superclasses):\n",
    "    isa = {}\n",
    "    for s in superclasses:\n",
    "        internal_samples = np.isin(targets, s)\n",
    "        internal_targets = targets[internal_samples]\n",
    "        internal_logits = logits[internal_samples][:,s]\n",
    "        s_targets = np.vectorize(lambda x: s[x])\n",
    "        internal_preds = s_targets(get_predictions(internal_logits)['predicted_classes'])\n",
    "        isa[s] = (internal_preds == internal_targets).mean()\n",
    "    return isa"
   ]
  },
  {
   "cell_type": "code",
   "execution_count": 64,
   "id": "53f1cfeb-c611-4ae7-aabd-0a9b24d6e8a2",
   "metadata": {},
   "outputs": [],
   "source": [
    "def worst_balanced_inter_superclass_accuracy(logits, targets, superclasses):\n",
    "    raise NotImplementedError"
   ]
  },
  {
   "cell_type": "code",
   "execution_count": 62,
   "id": "6690a093-ae08-4a01-9d71-8fb0bdf65c38",
   "metadata": {},
   "outputs": [],
   "source": [
    "def worst_class_specifity(logits, targets):\n",
    "    preds = get_predictions(logits)\n",
    "    classes = list(set(targets))\n",
    "    sc = {}\n",
    "    for c in classes:\n",
    "        erroneous_c = (preds['predicted_classes'] == c)*(targets != c)\n",
    "        predicted_c = (preds['predicted_classes'] == c)\n",
    "        if predicted_c.sum():\n",
    "            sc[c] = erroneous_c.sum()/predicted_c.sum()\n",
    "        else:\n",
    "            sc[c] = 0\n",
    "    sorted_sc = sorted(sc.items(), key=lambda item: item[1], reverse=True)\n",
    "    return sorted_sc"
   ]
  },
  {
   "cell_type": "code",
   "execution_count": 102,
   "id": "d914f8d6-a1ac-47c9-9cc2-51d1f85c8464",
   "metadata": {},
   "outputs": [],
   "source": [
    "def class_confusion(logits, targets):\n",
    "    preds = get_predictions(logits)\n",
    "    classes = list(set(targets))\n",
    "    confusion = np.zeros((len(classes), len(classes)))\n",
    "    for i,c in enumerate(targets):\n",
    "        confusion[c, preds['predicted_classes'][i]] += 1\n",
    "    return confusion"
   ]
  },
  {
   "cell_type": "code",
   "execution_count": 38,
   "id": "1a14b6c1-74e8-48a5-b8c6-fb298cdb8ebc",
   "metadata": {},
   "outputs": [
    {
     "data": {
      "text/plain": [
       "array([  0,   0,   0,   0,   0,   0,   0,   0,   0,   0, 133,   0,   0,\n",
       "         0,   0,   0,   0,   0,   0,   0,   0,   0,   0,   0,   0,   0,\n",
       "         0,   0,   0,   0,   0,   0,   0,   0,   0,   0,   0,   0,   0,\n",
       "         0,   0,   0,   0,   0,   0,   0,   0,   0,   0,   0])"
      ]
     },
     "execution_count": 38,
     "metadata": {},
     "output_type": "execute_result"
    }
   ],
   "source": [
    "predictions_IN_val['predicted_classes'][np.where(labels['imagenet_val'] == 0)]"
   ]
  },
  {
   "cell_type": "code",
   "execution_count": 67,
   "id": "92d96dd3-4c59-4f06-9b07-71b70133ac42",
   "metadata": {},
   "outputs": [
    {
     "data": {
      "text/plain": [
       "0.84528"
      ]
     },
     "execution_count": 67,
     "metadata": {},
     "output_type": "execute_result"
    }
   ],
   "source": [
    "standard_accuracy(logits['imagenet_val'], labels['imagenet_val'])"
   ]
  },
  {
   "cell_type": "code",
   "execution_count": 66,
   "id": "ca2cf719-9a7e-4459-a749-fe115a7982fe",
   "metadata": {},
   "outputs": [],
   "source": [
    "cwa = classwise_accuracies(logits['imagenet_val'], labels['imagenet_val'])"
   ]
  },
  {
   "cell_type": "code",
   "execution_count": 42,
   "id": "74183fa7-1af2-4165-a1a1-cf3f314a8c64",
   "metadata": {},
   "outputs": [
    {
     "data": {
      "text/plain": [
       "0.8452799999999999"
      ]
     },
     "execution_count": 42,
     "metadata": {},
     "output_type": "execute_result"
    }
   ],
   "source": [
    "np.array(list(cwa.values())).mean()"
   ]
  },
  {
   "cell_type": "code",
   "execution_count": 43,
   "id": "6d5ddae8-406c-4588-9a8c-c44901c7bdc2",
   "metadata": {},
   "outputs": [
    {
     "data": {
      "text/plain": [
       "(282, 0.24)"
      ]
     },
     "execution_count": 43,
     "metadata": {},
     "output_type": "execute_result"
    }
   ],
   "source": [
    "worst_class_accuracy(logits['imagenet_val'], labels['imagenet_val'])"
   ]
  },
  {
   "cell_type": "code",
   "execution_count": 44,
   "id": "257a674b-68f9-45b4-ac29-d9a922a6e69b",
   "metadata": {},
   "outputs": [
    {
     "data": {
      "text/plain": [
       "('tiger cat',)"
      ]
     },
     "execution_count": 44,
     "metadata": {},
     "output_type": "execute_result"
    }
   ],
   "source": [
    "classes['imagenet_val'][282]"
   ]
  },
  {
   "cell_type": "code",
   "execution_count": 45,
   "id": "f4d2aef8-4323-4d3b-87a6-bc4bc06f325c",
   "metadata": {},
   "outputs": [
    {
     "data": {
      "text/plain": [
       "(0.31399999999999995,\n",
       " [(282, 0.24),\n",
       "  (240, 0.28),\n",
       "  (782, 0.28),\n",
       "  (620, 0.3),\n",
       "  (638, 0.3),\n",
       "  (657, 0.3),\n",
       "  (482, 0.32),\n",
       "  (810, 0.36),\n",
       "  (167, 0.38),\n",
       "  (744, 0.38)])"
      ]
     },
     "execution_count": 45,
     "metadata": {},
     "output_type": "execute_result"
    }
   ],
   "source": [
    "worst_balanced_n_classes_accuracy(logits['imagenet_val'], labels['imagenet_val'], 10)"
   ]
  },
  {
   "cell_type": "code",
   "execution_count": 46,
   "id": "32d85c7a-d362-418c-a2a0-0591ddc01245",
   "metadata": {},
   "outputs": [
    {
     "data": {
      "text/plain": [
       "('laptop', 'laptop computer')"
      ]
     },
     "execution_count": 46,
     "metadata": {},
     "output_type": "execute_result"
    }
   ],
   "source": [
    "classes['imagenet_val'][620]"
   ]
  },
  {
   "cell_type": "code",
   "execution_count": 47,
   "id": "793b8f0f-1c7e-4f0b-aabc-c2189d8f4d30",
   "metadata": {},
   "outputs": [
    {
     "data": {
      "text/plain": [
       "('notebook', 'notebook computer')"
      ]
     },
     "execution_count": 47,
     "metadata": {},
     "output_type": "execute_result"
    }
   ],
   "source": [
    "classes['imagenet_val'][681]"
   ]
  },
  {
   "cell_type": "code",
   "execution_count": 48,
   "id": "11ed5d82-c6f3-46c0-963a-1ee77a945c93",
   "metadata": {},
   "outputs": [],
   "source": [
    "wbtcba = worst_balanced_two_class_binary_accuracy(logits['imagenet_val'], labels['imagenet_val'])"
   ]
  },
  {
   "cell_type": "code",
   "execution_count": 49,
   "id": "a3e9cfd3-8181-4c52-bd58-1b0ca8d0b2f2",
   "metadata": {},
   "outputs": [
    {
     "data": {
      "text/plain": [
       "(0.4, ((620, 681), 0.4))"
      ]
     },
     "execution_count": 49,
     "metadata": {},
     "output_type": "execute_result"
    }
   ],
   "source": [
    "wbtcba[:2]"
   ]
  },
  {
   "cell_type": "code",
   "execution_count": 50,
   "id": "571f2434-693f-48ed-b7bf-cba9c5358d76",
   "metadata": {},
   "outputs": [],
   "source": [
    "superclasses = [range(500), range(500,1000)]"
   ]
  },
  {
   "cell_type": "code",
   "execution_count": 51,
   "id": "5d8c446d-9476-4939-9159-6ebf6c0a0d20",
   "metadata": {},
   "outputs": [
    {
     "data": {
      "text/plain": [
       "(range(500, 1000), 0.83228)"
      ]
     },
     "execution_count": 51,
     "metadata": {},
     "output_type": "execute_result"
    }
   ],
   "source": [
    "worst_balanced_superclass_accuracy(logits['imagenet_val'], labels['imagenet_val'], superclasses)"
   ]
  },
  {
   "cell_type": "code",
   "execution_count": 96,
   "id": "35b2eb2b-2c32-4489-805b-235c2ee95951",
   "metadata": {},
   "outputs": [
    {
     "name": "stdout",
     "output_type": "stream",
     "text": [
      "(50000,)\n",
      "(50000,)\n",
      "[  0   0   0 ... 499 499 499]\n",
      "(50000,)\n",
      "(50000,)\n",
      "[500 500 500 ... 846 700 999]\n"
     ]
    },
    {
     "data": {
      "text/plain": [
       "{range(0, 500): 0.8832, range(500, 1000): 0.85196}"
      ]
     },
     "execution_count": 96,
     "metadata": {},
     "output_type": "execute_result"
    }
   ],
   "source": [
    "inter_superclass_accuracies(logits['imagenet_val'], labels['imagenet_val'], superclasses)"
   ]
  },
  {
   "cell_type": "code",
   "execution_count": 69,
   "id": "35bf488c-a3af-494d-b7b8-f3445a9556d4",
   "metadata": {},
   "outputs": [
    {
     "data": {
      "text/plain": [
       "[(681, 0.696969696969697),\n",
       " (620, 0.6590909090909091),\n",
       " (638, 0.6341463414634146),\n",
       " (657, 0.625),\n",
       " (848, 0.6212121212121212),\n",
       " (744, 0.5957446808510638),\n",
       " (639, 0.5789473684210527),\n",
       " (482, 0.5555555555555556),\n",
       " (527, 0.547945205479452),\n",
       " (73, 0.543859649122807)]"
      ]
     },
     "execution_count": 69,
     "metadata": {},
     "output_type": "execute_result"
    }
   ],
   "source": [
    "worst_class_specifity(logits['imagenet_val'], labels['imagenet_val'])[:10]"
   ]
  },
  {
   "cell_type": "code",
   "execution_count": 104,
   "id": "6cfd46bc-c0a6-45b9-bd4c-54104ffd7a79",
   "metadata": {},
   "outputs": [],
   "source": [
    "confusion_full = class_confusion(logits['imagenet_val'], labels['imagenet_val'])"
   ]
  },
  {
   "cell_type": "code",
   "execution_count": 106,
   "id": "283ebdf2-e942-43af-a351-b4cbf6c083de",
   "metadata": {},
   "outputs": [
    {
     "data": {
      "text/plain": [
       "0.84528"
      ]
     },
     "execution_count": 106,
     "metadata": {},
     "output_type": "execute_result"
    }
   ],
   "source": [
    "np.trace(confusion_full)/np.sum(confusion_full)"
   ]
  },
  {
   "cell_type": "code",
   "execution_count": 107,
   "id": "6aba6feb-a59a-4797-884d-ba3f1c1427ef",
   "metadata": {},
   "outputs": [],
   "source": [
    "confusion_normalized = confusion_full/confusion_full.sum(axis=1)"
   ]
  },
  {
   "cell_type": "code",
   "execution_count": 114,
   "id": "d40fa87a-c3fc-487b-83c2-a5c854816feb",
   "metadata": {},
   "outputs": [
    {
     "data": {
      "text/plain": [
       "0.8452799999999999"
      ]
     },
     "execution_count": 114,
     "metadata": {},
     "output_type": "execute_result"
    }
   ],
   "source": [
    "confusion_normalized.trace()/len(confusion_normalized)"
   ]
  },
  {
   "cell_type": "code",
   "execution_count": 114,
   "id": "1be9dee8-78d3-4486-b690-4683e1c81b6e",
   "metadata": {},
   "outputs": [
    {
     "data": {
      "text/plain": [
       "0.8452799999999999"
      ]
     },
     "execution_count": 114,
     "metadata": {},
     "output_type": "execute_result"
    }
   ],
   "source": [
    "confusion_normalized.trace()/len(confusion_normalized)"
   ]
  },
  {
   "cell_type": "code",
   "execution_count": 118,
   "id": "b2cb81f0-3179-41b3-9ae1-3d7bff3c9940",
   "metadata": {},
   "outputs": [],
   "source": [
    "confusion_normalized_errors = np.copy(confusion_normalized)\n",
    "np.fill_diagonal(confusion_normalized_errors, 0)"
   ]
  },
  {
   "cell_type": "code",
   "execution_count": 125,
   "id": "54163969-753b-40af-a321-de6bf87ab249",
   "metadata": {},
   "outputs": [
    {
     "data": {
      "text/plain": [
       "0.15472000000000002"
      ]
     },
     "execution_count": 125,
     "metadata": {},
     "output_type": "execute_result"
    }
   ],
   "source": [
    "confusion_normalized_errors.sum()/len(confusion_normalized_errors) #standard error"
   ]
  },
  {
   "cell_type": "code",
   "execution_count": 126,
   "id": "a37e9a7b-2f3d-43a0-98ea-1ce0c2ba69f4",
   "metadata": {},
   "outputs": [
    {
     "data": {
      "text/plain": [
       "0.9200000000000002"
      ]
     },
     "execution_count": 126,
     "metadata": {},
     "output_type": "execute_result"
    }
   ],
   "source": [
    "LA.norm(confusion_normalized_errors, 1)"
   ]
  },
  {
   "cell_type": "code",
   "execution_count": 127,
   "id": "cb00a8a7-cb11-47e3-af3f-86c94473691e",
   "metadata": {},
   "outputs": [
    {
     "data": {
      "text/plain": [
       "0.76"
      ]
     },
     "execution_count": 127,
     "metadata": {},
     "output_type": "execute_result"
    }
   ],
   "source": [
    "LA.norm(confusion_normalized_errors, np.inf) #worst class error"
   ]
  },
  {
   "cell_type": "code",
   "execution_count": 129,
   "id": "b939fea2-2171-4d86-b2ad-ab9d09e7b7ce",
   "metadata": {},
   "outputs": [
    {
     "data": {
      "text/plain": [
       "0.6006040051358144"
      ]
     },
     "execution_count": 129,
     "metadata": {},
     "output_type": "execute_result"
    }
   ],
   "source": [
    "LA.norm(confusion_normalized_errors, 2)"
   ]
  }
 ],
 "metadata": {
  "kernelspec": {
   "display_name": "Python 3 (ipykernel)",
   "language": "python",
   "name": "python3"
  },
  "language_info": {
   "codemirror_mode": {
    "name": "ipython",
    "version": 3
   },
   "file_extension": ".py",
   "mimetype": "text/x-python",
   "name": "python",
   "nbconvert_exporter": "python",
   "pygments_lexer": "ipython3",
   "version": "3.9.7"
  }
 },
 "nbformat": 4,
 "nbformat_minor": 5
}
