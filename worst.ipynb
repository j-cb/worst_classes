{
 "cells": [
  {
   "cell_type": "code",
   "execution_count": 1,
   "id": "2a9ff487-b18a-4c26-bb36-d7a23d2e88db",
   "metadata": {},
   "outputs": [],
   "source": [
    "import inspect"
   ]
  },
  {
   "cell_type": "code",
   "execution_count": 2,
   "id": "9e2877f2-06a8-4ae6-86b9-b8455e5a23a7",
   "metadata": {},
   "outputs": [],
   "source": [
    "%load_ext autoreload\n",
    "%autoreload 2"
   ]
  },
  {
   "cell_type": "code",
   "execution_count": 3,
   "id": "2a1c6cd4-34fe-485f-9037-0ec924a94812",
   "metadata": {},
   "outputs": [],
   "source": [
    "import numpy as np\n",
    "import os\n",
    "import sys\n",
    "import matplotlib.pyplot as plt\n",
    "from sklearn import decomposition\n",
    "from scipy.stats import norm\n",
    "import scipy.stats\n",
    "from sklearn.manifold import TSNE\n",
    "import seaborn as sns\n",
    "from pathlib import Path\n",
    "import collections\n",
    "import itertools"
   ]
  },
  {
   "cell_type": "code",
   "execution_count": 4,
   "id": "bee428c7-25a9-476e-a01d-65914163f69f",
   "metadata": {},
   "outputs": [],
   "source": [
    "def get_predictions(logits):\n",
    "    preds = {'logits': logits,\n",
    "             'predicted_classes': logits.argmax(axis=1),\n",
    "             'class_probabilities': scipy.special.softmax(logits, axis=1),\n",
    "             'confidences_classifier': scipy.special.softmax(logits, axis=1).max(axis=1),\n",
    "            }\n",
    "    preds['number_of_class_predictions'] = collections.Counter(preds['predicted_classes'])\n",
    "    return preds"
   ]
  },
  {
   "cell_type": "code",
   "execution_count": 5,
   "id": "a1764505-3fe1-4910-8bd0-e3ba366d2ada",
   "metadata": {},
   "outputs": [],
   "source": [
    "features, logits, labels, classes = {}, {}, {}, {}"
   ]
  },
  {
   "cell_type": "code",
   "execution_count": 6,
   "id": "df5f92c4-5ea1-483e-aa0d-4455cec49c07",
   "metadata": {},
   "outputs": [],
   "source": [
    "mod = ''\n",
    "model_name = f\"vit_base_patch16_224{mod}\""
   ]
  },
  {
   "cell_type": "code",
   "execution_count": 7,
   "id": "98221b2f-8826-4495-9d4a-52679fe816ca",
   "metadata": {},
   "outputs": [],
   "source": [
    "outputs_load_path = f'/mnt/SHARED/Julian/feature_density_ood/notebooks/outputs/{model_name}'"
   ]
  },
  {
   "cell_type": "code",
   "execution_count": 8,
   "id": "fee7095f-161d-4304-bd1b-227906ae8852",
   "metadata": {},
   "outputs": [],
   "source": [
    "def load_outputs(*dset_names):\n",
    "    for dset_name in dset_names:\n",
    "        outputs = np.load(os.path.join(outputs_load_path, f'{dset_name}.npz'), allow_pickle=True)\n",
    "        for d in ['features', 'logits', 'labels', 'classes']:\n",
    "           globals()[d][dset_name] = outputs[d]"
   ]
  },
  {
   "cell_type": "code",
   "execution_count": 9,
   "id": "e8f0edff-69d3-492f-b10e-b552f395dbab",
   "metadata": {},
   "outputs": [],
   "source": [
    "load_outputs('raccoons', 'imagenet_val', 'Food101', 'textures', 'OOD_Places_MOS', 'iNaturalist')"
   ]
  },
  {
   "cell_type": "code",
   "execution_count": 10,
   "id": "d64d1600-5be6-4f96-84fc-a0f14e8e707f",
   "metadata": {},
   "outputs": [],
   "source": [
    "predictions_IN_val = get_predictions(logits['imagenet_val'])"
   ]
  },
  {
   "cell_type": "code",
   "execution_count": 11,
   "id": "e76e185f-03b4-4c01-86ce-d8b7d36bdafa",
   "metadata": {},
   "outputs": [
    {
     "data": {
      "text/plain": [
       "array([  0,   0,   0, ..., 846, 333, 999])"
      ]
     },
     "execution_count": 11,
     "metadata": {},
     "output_type": "execute_result"
    }
   ],
   "source": [
    "predictions_IN_val['predicted_classes']"
   ]
  },
  {
   "cell_type": "code",
   "execution_count": 12,
   "id": "e54515d6-4eac-4d25-b0b2-c6d2dc0a2de1",
   "metadata": {},
   "outputs": [],
   "source": [
    "def standard_accuracy(logits, targets):\n",
    "    preds = get_predictions(logits)\n",
    "    accuracy = np.equal(preds['predicted_classes'], targets).mean()\n",
    "    return accuracy"
   ]
  },
  {
   "cell_type": "code",
   "execution_count": 13,
   "id": "76c9e9c1-c611-44d5-9bed-7f4942dca07a",
   "metadata": {},
   "outputs": [],
   "source": [
    "def classwise_accuracies(logits, targets):\n",
    "    preds = get_predictions(logits)\n",
    "    clw_acc = {}\n",
    "    for i in set(targets):\n",
    "        clw_acc[i] = np.equal(preds['predicted_classes'][np.where(targets == i)], i).mean()\n",
    "    return clw_acc"
   ]
  },
  {
   "cell_type": "code",
   "execution_count": 14,
   "id": "0e683e51-4c72-4457-a51d-a788fcdfa84a",
   "metadata": {},
   "outputs": [],
   "source": [
    "def worst_class_accuracy(logits, targets):\n",
    "    cwa = classwise_accuracies(logits, targets)\n",
    "    return min(cwa.items(), key=lambda x: x[1])"
   ]
  },
  {
   "cell_type": "code",
   "execution_count": 15,
   "id": "2bd2d556-2502-47d9-aef5-51e63600540e",
   "metadata": {},
   "outputs": [],
   "source": [
    "def worst_balanced_n_classes_accuracy(logits, targets, n):\n",
    "    cwa = classwise_accuracies(logits, targets)\n",
    "    sorted_cwa =  sorted(cwa.items(), key=lambda item: item[1])\n",
    "    n_worst = sorted_cwa[:n]\n",
    "    return np.array([x[1] for x in n_worst]).mean(), n_worst"
   ]
  },
  {
   "cell_type": "code",
   "execution_count": 16,
   "id": "76509e3f-4470-401c-9b90-f922fee53dce",
   "metadata": {},
   "outputs": [],
   "source": [
    "def worst_balanced_two_class_binary_accuracy(logits, targets):\n",
    "    classes = list(set(targets))\n",
    "    binary_accuracies = {}\n",
    "    for i,j in itertools.combinations(classes, 2):\n",
    "        i_labelled = logits[np.where(targets == i)]\n",
    "        j_labelled = logits[np.where(targets == j)]\n",
    "        i_correct = np.greater(i_labelled[:,i], i_labelled[:,j]).mean()\n",
    "        j_correct = np.greater(j_labelled[:,j], j_labelled[:,i]).mean()\n",
    "        binary_accuracies[(i,j)] = (i_correct + j_correct)/2\n",
    "    sorted_binary_accuracies = sorted(binary_accuracies.items(), key=lambda item: item[1])\n",
    "    return sorted_binary_accuracies[0][1], sorted_binary_accuracies[0], sorted_binary_accuracies, binary_accuracies"
   ]
  },
  {
   "cell_type": "code",
   "execution_count": 17,
   "id": "75c1630e-0133-4cf0-9349-9ec5a4c8cbfb",
   "metadata": {},
   "outputs": [
    {
     "ename": "SyntaxError",
     "evalue": "invalid syntax (2466461043.py, line 1)",
     "output_type": "error",
     "traceback": [
      "\u001b[0;36m  File \u001b[0;32m\"/tmp/ipykernel_8747/2466461043.py\"\u001b[0;36m, line \u001b[0;32m1\u001b[0m\n\u001b[0;31m    defdef worst_balanced_superclass_accuracy(logits, targets, superclasses):\u001b[0m\n\u001b[0m           ^\u001b[0m\n\u001b[0;31mSyntaxError\u001b[0m\u001b[0;31m:\u001b[0m invalid syntax\n"
     ]
    }
   ],
   "source": [
    "defdef worst_balanced_superclass_accuracy(logits, targets, superclasses):\n",
    ":\n",
    "    cwa = classwise_accuracies(logits, targets)\n",
    "    scwa = {s: np.array([cwa[c] for c in s]).mean() for s in superclasses}\n",
    "    return min(scwa.items(), key=lambda x: x[1])"
   ]
  },
  {
   "cell_type": "code",
   "execution_count": null,
   "id": "1a14b6c1-74e8-48a5-b8c6-fb298cdb8ebc",
   "metadata": {},
   "outputs": [],
   "source": [
    "predictions_IN_val['predicted_classes'][np.where(labels['imagenet_val'] == 0)]"
   ]
  },
  {
   "cell_type": "code",
   "execution_count": null,
   "id": "92d96dd3-4c59-4f06-9b07-71b70133ac42",
   "metadata": {},
   "outputs": [],
   "source": [
    "standard_accuracy(logits['imagenet_val'], labels['imagenet_val'])"
   ]
  },
  {
   "cell_type": "code",
   "execution_count": null,
   "id": "ca2cf719-9a7e-4459-a749-fe115a7982fe",
   "metadata": {},
   "outputs": [],
   "source": [
    "cwa = classwise_accuracies(logits['imagenet_val'], labels['imagenet_val'])"
   ]
  },
  {
   "cell_type": "code",
   "execution_count": null,
   "id": "74183fa7-1af2-4165-a1a1-cf3f314a8c64",
   "metadata": {},
   "outputs": [],
   "source": [
    "np.array(list(cwa.values())).mean()"
   ]
  },
  {
   "cell_type": "code",
   "execution_count": null,
   "id": "6d5ddae8-406c-4588-9a8c-c44901c7bdc2",
   "metadata": {},
   "outputs": [],
   "source": [
    "worst_class_accuracy(logits['imagenet_val'], labels['imagenet_val'])"
   ]
  },
  {
   "cell_type": "code",
   "execution_count": null,
   "id": "257a674b-68f9-45b4-ac29-d9a922a6e69b",
   "metadata": {},
   "outputs": [],
   "source": [
    "classes['imagenet_val'][282]"
   ]
  },
  {
   "cell_type": "code",
   "execution_count": null,
   "id": "f4d2aef8-4323-4d3b-87a6-bc4bc06f325c",
   "metadata": {},
   "outputs": [],
   "source": [
    "worst_balanced_n_classes_accuracy(logits['imagenet_val'], labels['imagenet_val'], 10)"
   ]
  },
  {
   "cell_type": "code",
   "execution_count": null,
   "id": "32d85c7a-d362-418c-a2a0-0591ddc01245",
   "metadata": {},
   "outputs": [],
   "source": [
    "classes['imagenet_val'][620]"
   ]
  },
  {
   "cell_type": "code",
   "execution_count": null,
   "id": "793b8f0f-1c7e-4f0b-aabc-c2189d8f4d30",
   "metadata": {},
   "outputs": [],
   "source": [
    "classes['imagenet_val'][681]"
   ]
  },
  {
   "cell_type": "code",
   "execution_count": null,
   "id": "11ed5d82-c6f3-46c0-963a-1ee77a945c93",
   "metadata": {},
   "outputs": [],
   "source": [
    "wbtcba = worst_balanced_two_class_binary_accuracy(logits['imagenet_val'], labels['imagenet_val'])"
   ]
  },
  {
   "cell_type": "code",
   "execution_count": null,
   "id": "a3e9cfd3-8181-4c52-bd58-1b0ca8d0b2f2",
   "metadata": {},
   "outputs": [],
   "source": [
    "wbtcba[:2]"
   ]
  },
  {
   "cell_type": "code",
   "execution_count": null,
   "id": "571f2434-693f-48ed-b7bf-cba9c5358d76",
   "metadata": {},
   "outputs": [],
   "source": [
    "superclasses = [range(500), range(500,1000)]"
   ]
  },
  {
   "cell_type": "code",
   "execution_count": null,
   "id": "5d8c446d-9476-4939-9159-6ebf6c0a0d20",
   "metadata": {},
   "outputs": [],
   "source": [
    "worst_balanced_superclass_accuracy(logits['imagenet_val'], labels['imagenet_val'], superclasses)"
   ]
  }
 ],
 "metadata": {
  "kernelspec": {
   "display_name": "Python 3 (ipykernel)",
   "language": "python",
   "name": "python3"
  },
  "language_info": {
   "codemirror_mode": {
    "name": "ipython",
    "version": 3
   },
   "file_extension": ".py",
   "mimetype": "text/x-python",
   "name": "python",
   "nbconvert_exporter": "python",
   "pygments_lexer": "ipython3",
   "version": "3.9.7"
  }
 },
 "nbformat": 4,
 "nbformat_minor": 5
}
