{
 "cells": [
  {
   "cell_type": "code",
   "execution_count": 1,
   "id": "2a9ff487-b18a-4c26-bb36-d7a23d2e88db",
   "metadata": {},
   "outputs": [],
   "source": [
    "import inspect"
   ]
  },
  {
   "cell_type": "code",
   "execution_count": 2,
   "id": "9e2877f2-06a8-4ae6-86b9-b8455e5a23a7",
   "metadata": {},
   "outputs": [],
   "source": [
    "%load_ext autoreload\n",
    "%autoreload 2"
   ]
  },
  {
   "cell_type": "code",
   "execution_count": 3,
   "id": "2a1c6cd4-34fe-485f-9037-0ec924a94812",
   "metadata": {},
   "outputs": [],
   "source": [
    "import numpy as np\n",
    "import os\n",
    "import sys\n",
    "import matplotlib.pyplot as plt\n",
    "from sklearn import decomposition\n",
    "from scipy.stats import norm\n",
    "import scipy.stats\n",
    "from sklearn.manifold import TSNE\n",
    "import seaborn as sns\n",
    "from pathlib import Path\n",
    "import collections\n",
    "import itertools\n",
    "from numpy import linalg as LA"
   ]
  },
  {
   "cell_type": "code",
   "execution_count": 4,
   "id": "d1ffd38c-1c7f-45b6-902d-b0c3ee13cd88",
   "metadata": {},
   "outputs": [],
   "source": [
    "superclass_list = np.genfromtxt('restricted_superclass.csv', delimiter=',', dtype='i8')\n",
    "superclasses = [tuple(np.where(superclass_list == i)[0]) for i in range(0,9)]\n",
    "superclass_names = ['Dog', 'Cat', 'Frog', 'Turtle', 'Bird', 'Monkey', 'Fish', 'Crab', 'Insect', '', 'Other']"
   ]
  },
  {
   "cell_type": "code",
   "execution_count": 5,
   "id": "bee428c7-25a9-476e-a01d-65914163f69f",
   "metadata": {},
   "outputs": [],
   "source": [
    "def get_predictions(logits:np.ndarray) -> np.ndarray:\n",
    "    preds = {'logits': logits,\n",
    "             'predicted_classes': logits.argmax(axis=1),\n",
    "             'class_probabilities': scipy.special.softmax(logits, axis=1),\n",
    "             'confidences_classifier': scipy.special.softmax(logits, axis=1).max(axis=1),\n",
    "            }\n",
    "    preds['number_of_class_predictions'] = collections.Counter(preds['predicted_classes'])\n",
    "    return preds"
   ]
  },
  {
   "cell_type": "code",
   "execution_count": 6,
   "id": "a1764505-3fe1-4910-8bd0-e3ba366d2ada",
   "metadata": {},
   "outputs": [],
   "source": [
    "features, logits, labels, classes = {}, {}, {}, {}"
   ]
  },
  {
   "cell_type": "code",
   "execution_count": 7,
   "id": "df5f92c4-5ea1-483e-aa0d-4455cec49c07",
   "metadata": {},
   "outputs": [],
   "source": [
    "mod = ''\n",
    "model_name = f\"resnet18{mod}\""
   ]
  },
  {
   "cell_type": "code",
   "execution_count": 8,
   "id": "2e6f26f5-36a9-4f32-a351-0fd4b6774b58",
   "metadata": {},
   "outputs": [],
   "source": [
    "logits, labels, classes = {}, {}, {}"
   ]
  },
  {
   "cell_type": "code",
   "execution_count": 9,
   "id": "0b2ed0a6-ecfc-49da-970a-0ec70cf30898",
   "metadata": {},
   "outputs": [],
   "source": [
    "outputs_load_paths = [f'outputs/{model_name}', f'/mnt/SHARED/Julian/feature_density_ood/notebooks/outputs/{model_name}']"
   ]
  },
  {
   "cell_type": "code",
   "execution_count": 10,
   "id": "aed643d4-93fa-4f49-aa8f-3d64bcedf797",
   "metadata": {},
   "outputs": [],
   "source": [
    "def load_outputs(*dset_names):\n",
    "    for dset_name in dset_names:\n",
    "        for path in outputs_load_paths:\n",
    "            filename = os.path.join(path, f'{dset_name}.npz')\n",
    "            if os.path.exists(filename):\n",
    "                print(filename)\n",
    "                outputs = np.load(filename, allow_pickle=True)\n",
    "                break\n",
    "        else:\n",
    "            raise FileNotFoundError(f'{dset_name}.npz')\n",
    "        for d in ['logits', 'labels', 'classes']:\n",
    "           globals()[d][dset_name] = outputs[d]"
   ]
  },
  {
   "cell_type": "code",
   "execution_count": 11,
   "id": "9f58c251-98e4-487c-89f0-1d2d390372ad",
   "metadata": {},
   "outputs": [],
   "source": [
    "dataset = 'imagenet_val_clean'"
   ]
  },
  {
   "cell_type": "code",
   "execution_count": 12,
   "id": "d8eb008a-3f60-45c2-ab5b-32b2b9efbb29",
   "metadata": {},
   "outputs": [
    {
     "name": "stdout",
     "output_type": "stream",
     "text": [
      "outputs/resnet18/imagenet_val_clean.npz\n"
     ]
    }
   ],
   "source": [
    "load_outputs(dataset)"
   ]
  },
  {
   "cell_type": "code",
   "execution_count": 13,
   "id": "d64d1600-5be6-4f96-84fc-a0f14e8e707f",
   "metadata": {},
   "outputs": [],
   "source": [
    "predictions_IN_val = get_predictions(logits['imagenet_val_clean'])"
   ]
  },
  {
   "cell_type": "code",
   "execution_count": 14,
   "id": "e76e185f-03b4-4c01-86ce-d8b7d36bdafa",
   "metadata": {},
   "outputs": [
    {
     "data": {
      "text/plain": [
       "array([ 48,   0,   0, ..., 999, 333, 999])"
      ]
     },
     "execution_count": 14,
     "metadata": {},
     "output_type": "execute_result"
    }
   ],
   "source": [
    "predictions_IN_val['predicted_classes']"
   ]
  },
  {
   "cell_type": "code",
   "execution_count": 15,
   "id": "e54515d6-4eac-4d25-b0b2-c6d2dc0a2de1",
   "metadata": {},
   "outputs": [],
   "source": [
    "def standard_accuracy(logits, targets):\n",
    "    preds = get_predictions(logits)\n",
    "    accuracy = (preds['predicted_classes'] == targets).mean()\n",
    "    return accuracy"
   ]
  },
  {
   "cell_type": "code",
   "execution_count": 16,
   "id": "76c9e9c1-c611-44d5-9bed-7f4942dca07a",
   "metadata": {},
   "outputs": [],
   "source": [
    "def classwise_accuracies(logits, targets):\n",
    "    preds = get_predictions(logits)\n",
    "    clw_acc = {}\n",
    "    for i in set(targets):\n",
    "        clw_acc[i] = np.equal(preds['predicted_classes'][np.where(targets == i)], i).mean()\n",
    "    return clw_acc"
   ]
  },
  {
   "cell_type": "code",
   "execution_count": 17,
   "id": "77b11d09-1b71-499b-abdf-b629b9a943c3",
   "metadata": {},
   "outputs": [],
   "source": [
    "def classwise_sample_numbers(targets):\n",
    "    clw_sn = {}\n",
    "    for i in set(targets):\n",
    "        clw_sn[i] = np.sum(targets == i)\n",
    "    return clw_sn"
   ]
  },
  {
   "cell_type": "code",
   "execution_count": 18,
   "id": "52e20052-c6cc-42ff-a7d0-2202f43d16f3",
   "metadata": {},
   "outputs": [],
   "source": [
    "def classwise_topk_accuracies(logits, targets, k):\n",
    "    preds = get_predictions(logits)\n",
    "    clw_topk_acc = {}\n",
    "    for i in set(targets):\n",
    "        clw_topk_acc[i] = np.equal(i, np.argsort(preds['class_probabilities'][np.where(targets == i)], axis=1)[:,-k:]).sum(axis=-1).mean()\n",
    "    return clw_topk_acc"
   ]
  },
  {
   "cell_type": "code",
   "execution_count": 19,
   "id": "9bd4c137-8c58-4fb5-a887-7563b14aac0b",
   "metadata": {},
   "outputs": [],
   "source": [
    "def standard_balanced_topk_accuracy(logits, targets, k):\n",
    "    clw_topk_acc = classwise_topk_accuracies(logits, targets, k)\n",
    "    return np.array(list(clw_topk_acc.values())).mean()"
   ]
  },
  {
   "cell_type": "code",
   "execution_count": 20,
   "id": "0e683e51-4c72-4457-a51d-a788fcdfa84a",
   "metadata": {},
   "outputs": [],
   "source": [
    "def worst_class_accuracy(logits, targets):\n",
    "    cwa = classwise_accuracies(logits, targets)\n",
    "    worst_item = min(cwa.items(), key=lambda x: x[1])\n",
    "    return worst_item[1], worst_item[0]"
   ]
  },
  {
   "cell_type": "code",
   "execution_count": 21,
   "id": "6485cad1-104b-49e4-aa36-38496f22626d",
   "metadata": {},
   "outputs": [],
   "source": [
    "def worst_class_topk_accuracy(logits, targets,k):\n",
    "    clw_topk_acc = classwise_topk_accuracies(logits, targets, k)\n",
    "    worst_item =  min(clw_topk_acc.items(), key=lambda x: x[1])\n",
    "    return worst_item[1], worst_item[0]"
   ]
  },
  {
   "cell_type": "code",
   "execution_count": 22,
   "id": "2bd2d556-2502-47d9-aef5-51e63600540e",
   "metadata": {},
   "outputs": [],
   "source": [
    "def worst_balanced_n_classes_accuracy(logits, targets, n):\n",
    "    cwa = classwise_accuracies(logits, targets)\n",
    "    sorted_cwa =  sorted(cwa.items(), key=lambda item: item[1])\n",
    "    n_worst = sorted_cwa[:n]\n",
    "    return np.array([x[1] for x in n_worst]).mean()"
   ]
  },
  {
   "cell_type": "code",
   "execution_count": 23,
   "id": "27400058-97da-4ca4-8398-e3f8bc7f4474",
   "metadata": {},
   "outputs": [],
   "source": [
    "def worst_heuristic_n_classes_recall(logits, targets, n):\n",
    "    cwa = classwise_accuracies(logits, targets)\n",
    "    clw_sn =classwise_sample_numbers(targets)\n",
    "    sorted_cwa =  sorted(cwa.items(), key=lambda item: item[1])\n",
    "    n_worst = sorted_cwa[:n]\n",
    "    nwc = np.array([v*clw_sn[c] for c,v in n_worst]).sum()/np.array([clw_sn[c] for c,v in n_worst]).sum()\n",
    "    return nwc"
   ]
  },
  {
   "cell_type": "code",
   "execution_count": 24,
   "id": "cfa6759a-c43d-439e-9ab2-ccf7d8184ab1",
   "metadata": {},
   "outputs": [],
   "source": [
    "def worst_balanced_n_classes_topk_accuracy(logits, targets, n, k):\n",
    "    clw_topk_acc = classwise_topk_accuracies(logits, targets, k)\n",
    "    sorted_clw_topk_acc =  sorted(clw_topk_acc.items(), key=lambda item: item[1])\n",
    "    n_worst = sorted_clw_topk_acc[:n]\n",
    "    return np.array([x[1] for x in n_worst]).mean()"
   ]
  },
  {
   "cell_type": "code",
   "execution_count": 25,
   "id": "64018c16-4bbb-4234-b177-ebf7b7af793a",
   "metadata": {},
   "outputs": [],
   "source": [
    "def worst_heuristic_n_classes_topk_recall(logits, targets, n, k):\n",
    "    clw_topk_acc = classwise_topk_accuracies(logits, targets, k)\n",
    "    clw_sn =classwise_sample_numbers(targets)\n",
    "    sorted_clw_topk_acc =  sorted(clw_topk_acc.items(), key=lambda item: item[1])\n",
    "    n_worst = sorted_clw_topk_acc[:n]\n",
    "    nwc = np.array([v*clw_sn[c] for c,v in n_worst]).sum()/np.array([clw_sn[c] for c,v in n_worst]).sum()\n",
    "    return nwc"
   ]
  },
  {
   "cell_type": "code",
   "execution_count": 26,
   "id": "76509e3f-4470-401c-9b90-f922fee53dce",
   "metadata": {},
   "outputs": [],
   "source": [
    "def worst_balanced_two_class_binary_accuracy(logits, targets):\n",
    "    classes = list(set(targets))\n",
    "    binary_accuracies = {}\n",
    "    for i,j in itertools.combinations(classes, 2):\n",
    "        i_labelled = logits[np.where(targets == i)]\n",
    "        j_labelled = logits[np.where(targets == j)]\n",
    "        i_correct = np.greater(i_labelled[:,i], i_labelled[:,j]).mean()\n",
    "        j_correct = np.greater(j_labelled[:,j], j_labelled[:,i]).mean()\n",
    "        binary_accuracies[(i,j)] = (i_correct + j_correct)/2\n",
    "    sorted_binary_accuracies = sorted(binary_accuracies.items(), key=lambda item: item[1])\n",
    "    worst_item = sorted_binary_accuracies[0]\n",
    "    return worst_item[1], worst_item[0][0], worst_item[0][1]"
   ]
  },
  {
   "cell_type": "code",
   "execution_count": 27,
   "id": "75c1630e-0133-4cf0-9349-9ec5a4c8cbfb",
   "metadata": {},
   "outputs": [],
   "source": [
    "def worst_balanced_superclass_recall(logits, targets, superclasses):\n",
    "    cwa = classwise_accuracies(logits, targets)\n",
    "    scwa = {i: np.array([cwa[c] for c in s]).mean() for i,s in enumerate(superclasses)}\n",
    "    worst_item = min(scwa.items(), key=lambda x: x[1])\n",
    "    return worst_item[1], -worst_item[0]-1"
   ]
  },
  {
   "cell_type": "code",
   "execution_count": 28,
   "id": "24895179-65a5-4952-9b9e-474f53c895eb",
   "metadata": {},
   "outputs": [],
   "source": [
    "def worst_superclass_recall(logits, targets, superclasses):\n",
    "    cwa = classwise_accuracies(logits, targets)\n",
    "    clw_sn =classwise_sample_numbers(targets)\n",
    "    scwa = {i: np.array([cwa[c]*clw_sn[c] for c in s]).sum()/np.array([clw_sn[c] for c in s]).sum() for i,s in enumerate(superclasses)}\n",
    "    worst_item = min(scwa.items(), key=lambda x: x[1])\n",
    "    return worst_item[1], -worst_item[0]-1"
   ]
  },
  {
   "cell_type": "code",
   "execution_count": 29,
   "id": "f10cead4-7535-4de0-9492-d2a6f728db5a",
   "metadata": {},
   "outputs": [],
   "source": [
    "def intra_superclass_accuracies(logits, targets, superclasses):\n",
    "    isa = {}\n",
    "    for i,s in enumerate(superclasses):\n",
    "        internal_samples = np.isin(targets, s)\n",
    "        internal_targets = targets[internal_samples]\n",
    "        internal_logits = logits[internal_samples][:,s]\n",
    "        s_targets = np.vectorize(lambda x: s[x])\n",
    "        internal_preds = s_targets(get_predictions(internal_logits)['predicted_classes'])\n",
    "        isa[i] = (internal_preds == internal_targets).mean()\n",
    "    return isa"
   ]
  },
  {
   "cell_type": "code",
   "execution_count": 30,
   "id": "53f1cfeb-c611-4ae7-aabd-0a9b24d6e8a2",
   "metadata": {},
   "outputs": [],
   "source": [
    "def worst_intra_superclass_accuracy(logits, targets, superclasses):\n",
    "    isa = intra_superclass_accuracies(logits, targets, superclasses)\n",
    "    worst_item =  min(isa.items(), key=lambda x: x[1])\n",
    "    return worst_item[1], -worst_item[0]-1"
   ]
  },
  {
   "cell_type": "code",
   "execution_count": 31,
   "id": "6690a093-ae08-4a01-9d71-8fb0bdf65c38",
   "metadata": {},
   "outputs": [],
   "source": [
    "def worst_class_precision(logits, targets):\n",
    "    preds = get_predictions(logits)\n",
    "    classes = list(set(targets))\n",
    "    sc = {}\n",
    "    for c in classes:\n",
    "        erroneous_c = (preds['predicted_classes'] == c)*(targets != c)\n",
    "        correct_c = (preds['predicted_classes'] == c)*(targets == c)\n",
    "        predicted_c = (preds['predicted_classes'] == c)\n",
    "        if predicted_c.sum():\n",
    "            sc[c] = correct_c.sum()/predicted_c.sum() #1-erroneous_c.sum()/predicted_c.sum()\n",
    "        else:\n",
    "            sc[c] = 1\n",
    "    sorted_sc = sorted(sc.items(), key=lambda item: item[1])\n",
    "    worst_item = sorted_sc[0]\n",
    "    return worst_item[1], worst_item[0]"
   ]
  },
  {
   "cell_type": "code",
   "execution_count": 32,
   "id": "d914f8d6-a1ac-47c9-9cc2-51d1f85c8464",
   "metadata": {},
   "outputs": [],
   "source": [
    "def class_confusion(logits, targets):\n",
    "    preds = get_predictions(logits)\n",
    "    classes = list(set(targets))\n",
    "    confusion = np.zeros((len(classes), len(classes)))\n",
    "    for i,c in enumerate(targets):\n",
    "        confusion[c, preds['predicted_classes'][i]] += 1\n",
    "    return confusion"
   ]
  },
  {
   "cell_type": "code",
   "execution_count": 33,
   "id": "9c665403-901a-4b37-81fb-5d2690156334",
   "metadata": {},
   "outputs": [],
   "source": [
    "dataset_tables = {}"
   ]
  },
  {
   "cell_type": "code",
   "execution_count": 38,
   "id": "8077c72d-da4a-4b45-8a51-38611e3dcb63",
   "metadata": {},
   "outputs": [],
   "source": [
    "dataset = 'imagenet_val_clean'"
   ]
  },
  {
   "cell_type": "code",
   "execution_count": 39,
   "id": "0de79ccc-6ef2-4852-ac82-2fc9c9e2304e",
   "metadata": {},
   "outputs": [],
   "source": [
    "model_names = ['resnet18', 'resnet50', 'vgg16', 'vit_base_patch16_224']"
   ]
  },
  {
   "cell_type": "code",
   "execution_count": 40,
   "id": "6318fd9f-99e5-4dfd-a80e-5021ea4235ca",
   "metadata": {},
   "outputs": [],
   "source": [
    "full_table = {}\n",
    "print_table = {}"
   ]
  },
  {
   "cell_type": "code",
   "execution_count": 41,
   "id": "bc1d7df7-6518-46b1-90d0-3f8c907f4e87",
   "metadata": {},
   "outputs": [
    {
     "data": {
      "text/plain": [
       "0.13981971306116694"
      ]
     },
     "execution_count": 41,
     "metadata": {},
     "output_type": "execute_result"
    }
   ],
   "source": [
    "worst_balanced_n_classes_accuracy(logits[dataset], labels[dataset], 10)"
   ]
  },
  {
   "cell_type": "code",
   "execution_count": 42,
   "id": "db80c158-d07f-4f0a-b29a-59e3394cb568",
   "metadata": {},
   "outputs": [
    {
     "name": "stdout",
     "output_type": "stream",
     "text": [
      "outputs/resnet18/imagenet_val_clean.npz\n"
     ]
    }
   ],
   "source": [
    "load_outputs('imagenet_val_clean')"
   ]
  },
  {
   "cell_type": "code",
   "execution_count": 43,
   "id": "98b52dbf-0bed-48a2-88b3-1044fde1e925",
   "metadata": {},
   "outputs": [
    {
     "name": "stdout",
     "output_type": "stream",
     "text": [
      "outputs/resnet18/imagenet_val_clean.npz\n",
      "outputs/resnet50/imagenet_val_clean.npz\n",
      "outputs/vgg16/imagenet_val_clean.npz\n",
      "outputs/vit_base_patch16_224/imagenet_val_clean.npz\n"
     ]
    }
   ],
   "source": [
    "for model_name in model_names:\n",
    "    logits, labels, classes = {}, {}, {}\n",
    "\n",
    "    outputs_load_paths = [f'outputs/{model_name}']\n",
    "\n",
    "    load_outputs(dataset)\n",
    "\n",
    "    table_entries = {\n",
    "        'Standard accuracy': standard_accuracy,\n",
    "        'Worst class accuracy': lambda logits, targets: worst_class_accuracy(logits, targets),\n",
    "        'Worst-class precision': lambda logits, targets: worst_class_precision(logits, targets),\n",
    "        'Worst superclass-accuracy': lambda logits, targets: worst_intra_superclass_accuracy(logits, targets, superclasses),\n",
    "        'Worst superclass recall': lambda logits, targets: worst_superclass_recall(logits, targets, superclasses),\n",
    "        'Worst 10-class recall': lambda logits, targets: worst_heuristic_n_classes_recall(logits, targets, 10),\n",
    "        'Worst 100-class recall': lambda logits, targets: worst_heuristic_n_classes_recall(logits, targets, 100),\n",
    "        'Worst 2-class binary accuracy': lambda logits, targets: worst_balanced_two_class_binary_accuracy(logits, targets),\n",
    "        'Worst class top-5 accuracy': lambda logits, targets: worst_class_topk_accuracy(logits, targets, 5),\n",
    "        'Worst 10-class top-5 recall': lambda logits, targets: worst_heuristic_n_classes_topk_recall(logits, targets, 10, 5),\n",
    "        'Worst 100-class top-5 recall': lambda logits, targets: worst_heuristic_n_classes_topk_recall(logits, targets, 100, 5),\n",
    "    }\n",
    "\n",
    "    table = {k: v(logits[dataset], labels[dataset]) for k,v in table_entries.items()}\n",
    "    full_table[model_name] = table"
   ]
  },
  {
   "cell_type": "code",
   "execution_count": 44,
   "id": "4c25a54a-57ea-4c39-89cb-39cbc7a8dfe3",
   "metadata": {},
   "outputs": [],
   "source": [
    "dataset_tables[dataset] = full_table"
   ]
  },
  {
   "cell_type": "code",
   "execution_count": 45,
   "id": "ee52bc4c-b1d2-4041-a01f-85002f701ced",
   "metadata": {},
   "outputs": [],
   "source": [
    "def class_number_to_name(x):\n",
    "    if x >= 0:\n",
    "        return classes[dataset][x]\n",
    "    else:\n",
    "        sc_idx = -(x+1)\n",
    "        return (superclass_names[sc_idx],)"
   ]
  },
  {
   "cell_type": "code",
   "execution_count": 46,
   "id": "d4c12955-6a5b-4087-8cf0-69bf3ec26c4c",
   "metadata": {},
   "outputs": [],
   "source": [
    "def write_table_entry(a):\n",
    "    b = (lambda x: x if type(x) is tuple else (x,))(a)\n",
    "    value = f'{100*b[0]:.2f}'.zfill(5)\n",
    "    detail = ''\n",
    "    for e in b[1:]:\n",
    "        detail += ' ' + class_number_to_name(e)[0] #'/'.join(class_number_to_name(e))\n",
    "    return value + detail"
   ]
  },
  {
   "cell_type": "code",
   "execution_count": 47,
   "id": "9748c7ed-ccd9-459a-b6d0-edc8e02d54fa",
   "metadata": {},
   "outputs": [],
   "source": [
    "latex_model_names = {\n",
    "    'resnet18': 'ResNet-18',\n",
    "    'resnet50': 'ResNet-50',\n",
    "    'vgg16': 'VGG16',\n",
    "    'vit_base_patch16_224': 'ViT base patch 16 224',\n",
    "}"
   ]
  },
  {
   "cell_type": "code",
   "execution_count": 48,
   "id": "0fd50ace-c421-4ea1-aa8f-6444f5410d39",
   "metadata": {},
   "outputs": [],
   "source": [
    "metric_latex_dict = {\n",
    "    'Standard accuracy': 'A',\n",
    "    'Worst class accuracy': 'WCA',\n",
    "    'Worst-class precision': 'WCP',\n",
    "    'Worst superclass-accuracy': 'WSupCA',\n",
    "    'Worst superclass recall': 'WSupCR',\n",
    "    'Worst 10-class recall': 'W10CR',\n",
    "    'Worst 100-class recall': 'W100CR',\n",
    "    'Worst 2-class binary accuracy': 'W2CA',\n",
    "    'Worst class top-5 accuracy': 'WCA@5',\n",
    "    'Worst 10-class top-5 recall': 'W10CR@5',\n",
    "    'Worst 100-class top-5 recall': 'W100CR@5',\n",
    "}"
   ]
  },
  {
   "cell_type": "code",
   "execution_count": 49,
   "id": "29de5668-7dbd-4b42-8db3-be630661b0e1",
   "metadata": {},
   "outputs": [
    {
     "data": {
      "text/plain": [
       "{'resnet18': {'Standard accuracy': 0.697919381461211,\n",
       "  'Worst class accuracy': (0.06521739130434782, 836),\n",
       "  'Worst-class precision': (0.15384615384615385, 618),\n",
       "  'Worst superclass-accuracy': (0.7180616740088106, -2),\n",
       "  'Worst superclass recall': (0.5947136563876652, -2),\n",
       "  'Worst 10-class recall': 0.13973799126637554,\n",
       "  'Worst 100-class recall': 0.3415004336513443,\n",
       "  'Worst 2-class binary accuracy': (0.4417874396135266, 620, 681),\n",
       "  'Worst class top-5 accuracy': (0.3958333333333333, 885),\n",
       "  'Worst 10-class top-5 recall': 0.49122807017543857,\n",
       "  'Worst 100-class top-5 recall': 0.6816202090592335},\n",
       " 'resnet50': {'Standard accuracy': 0.7615758839371036,\n",
       "  'Worst class accuracy': (0.1875, 638),\n",
       "  'Worst-class precision': (0.25, 620),\n",
       "  'Worst superclass-accuracy': (0.75, -4),\n",
       "  'Worst superclass recall': (0.6343612334801763, -2),\n",
       "  'Worst 10-class recall': 0.22317596566523606,\n",
       "  'Worst 100-class recall': 0.41853932584269665,\n",
       "  'Worst 2-class binary accuracy': (0.44130434782608696, 620, 681),\n",
       "  'Worst class top-5 accuracy': (0.5319148936170213, 818),\n",
       "  'Worst 10-class top-5 recall': 0.6206140350877193,\n",
       "  'Worst 100-class top-5 recall': 0.7722513089005235},\n",
       " 'vgg16': {'Standard accuracy': 0.7162279558682999,\n",
       "  'Worst class accuracy': (0.09090909090909091, 623),\n",
       "  'Worst-class precision': (0.2631578947368421, 620),\n",
       "  'Worst superclass-accuracy': (0.7092511013215859, -2),\n",
       "  'Worst superclass recall': (0.5770925110132159, -2),\n",
       "  'Worst 10-class recall': 0.17467248908296942,\n",
       "  'Worst 100-class recall': 0.3581051716644937,\n",
       "  'Worst 2-class binary accuracy': (0.4525709219858156, 638, 639),\n",
       "  'Worst class top-5 accuracy': (0.3541666666666667, 885),\n",
       "  'Worst 10-class top-5 recall': 0.5033112582781457,\n",
       "  'Worst 100-class top-5 recall': 0.7031963470319634},\n",
       " 'vit_base_patch16_224': {'Standard accuracy': 0.8461688819390148,\n",
       "  'Worst class accuracy': (0.21739130434782608, 282),\n",
       "  'Worst-class precision': (0.3, 681),\n",
       "  'Worst superclass-accuracy': (0.7665198237885462, -2),\n",
       "  'Worst superclass recall': (0.6696035242290749, -2),\n",
       "  'Worst 10-class recall': 0.3172866520787746,\n",
       "  'Worst 100-class recall': 0.5425833151818776,\n",
       "  'Worst 2-class binary accuracy': (0.407487922705314, 620, 681),\n",
       "  'Worst class top-5 accuracy': (0.6590909090909091, 623),\n",
       "  'Worst 10-class top-5 recall': 0.8008849557522124,\n",
       "  'Worst 100-class top-5 recall': 0.8952673093777388}}"
      ]
     },
     "execution_count": 49,
     "metadata": {},
     "output_type": "execute_result"
    }
   ],
   "source": [
    "full_table"
   ]
  },
  {
   "cell_type": "code",
   "execution_count": 50,
   "id": "d3a09593-31b1-4a7c-9b53-316082cfbef0",
   "metadata": {},
   "outputs": [],
   "source": [
    "def write_latex_table(full_table):\n",
    "    table_str = 'Model '.ljust(50)\n",
    "    for model_name in full_table.keys():\n",
    "        table_str += ' &   ' + latex_model_names[model_name].ljust(25)\n",
    "    table_str += r' \\\\ \\hline' + ' %' + dataset + '\\n'\n",
    "    for mk, mv in metric_latex_dict.items():\n",
    "        table_str += mv.ljust(50)\n",
    "        for model_name, v in full_table.items():\n",
    "            table_str += ' &   ' + write_table_entry(v[mk]).ljust(25)\n",
    "        table_str += r' \\\\' + '\\n'\n",
    "    return table_str"
   ]
  },
  {
   "cell_type": "code",
   "execution_count": 51,
   "id": "69c26924-39dc-4088-b0fc-66a5b9188a00",
   "metadata": {},
   "outputs": [
    {
     "data": {
      "text/plain": [
       "46044"
      ]
     },
     "execution_count": 51,
     "metadata": {},
     "output_type": "execute_result"
    }
   ],
   "source": [
    "len(logits[dataset])"
   ]
  },
  {
   "cell_type": "code",
   "execution_count": 52,
   "id": "dd9eda53-903f-4d61-b9b0-74c6885850b2",
   "metadata": {},
   "outputs": [
    {
     "name": "stdout",
     "output_type": "stream",
     "text": [
      "Model                                              &   ResNet-18                 &   ResNet-50                 &   VGG16                     &   ViT base patch 16 224     \\\\ \\hline %imagenet_val_clean\n",
      "A                                                  &   69.79                     &   76.16                     &   71.62                     &   84.62                     \\\\\n",
      "WCA                                                &   06.52 sunglass            &   18.75 maillot             &   09.09 letter opener       &   21.74 tiger cat           \\\\\n",
      "WCP                                                &   15.38 ladle               &   25.00 laptop              &   26.32 laptop              &   30.00 notebook            \\\\\n",
      "WSupCA                                             &   71.81 Cat                 &   75.00 Turtle              &   70.93 Cat                 &   76.65 Cat                 \\\\\n",
      "WSupCR                                             &   59.47 Cat                 &   63.44 Cat                 &   57.71 Cat                 &   66.96 Cat                 \\\\\n",
      "W10CR                                              &   13.97                     &   22.32                     &   17.47                     &   31.73                     \\\\\n",
      "W100CR                                             &   34.15                     &   41.85                     &   35.81                     &   54.26                     \\\\\n",
      "W2CA                                               &   44.18 laptop notebook     &   44.13 laptop notebook     &   45.26 maillot maillot     &   40.75 laptop notebook     \\\\\n",
      "WCA@5                                              &   39.58 velvet              &   53.19 spotlight           &   35.42 velvet              &   65.91 letter opener       \\\\\n",
      "W10CR@5                                            &   49.12                     &   62.06                     &   50.33                     &   80.09                     \\\\\n",
      "W100CR@5                                           &   68.16                     &   77.23                     &   70.32                     &   89.53                     \\\\\n",
      "\n"
     ]
    }
   ],
   "source": [
    "print(write_latex_table(dataset_tables[dataset]))"
   ]
  },
  {
   "cell_type": "code",
   "execution_count": 57,
   "id": "7b2ac7f3-88f8-4c30-bd5e-ddb37ae390db",
   "metadata": {},
   "outputs": [],
   "source": [
    "dataset = 'imagenet_val'"
   ]
  },
  {
   "cell_type": "code",
   "execution_count": 58,
   "id": "2cf954ab-40bc-45bf-b7a2-a2588ddf367c",
   "metadata": {},
   "outputs": [],
   "source": [
    "model_names = ['resnet18', 'resnet50', 'vgg16', 'vit_base_patch16_224']"
   ]
  },
  {
   "cell_type": "code",
   "execution_count": 59,
   "id": "48ed011c-131c-470f-8387-8b0409ca8593",
   "metadata": {},
   "outputs": [
    {
     "name": "stdout",
     "output_type": "stream",
     "text": [
      "outputs/resnet18/imagenet_val.npz\n",
      "outputs/resnet50/imagenet_val.npz\n",
      "outputs/vgg16/imagenet_val.npz\n",
      "outputs/vit_base_patch16_224/imagenet_val.npz\n"
     ]
    }
   ],
   "source": [
    "for model_name in model_names:\n",
    "    logits, labels, classes = {}, {}, {}\n",
    "\n",
    "    outputs_load_paths = [f'outputs/{model_name}']\n",
    "\n",
    "    load_outputs(dataset)\n",
    "\n",
    "    table_entries = {\n",
    "        'Standard accuracy': standard_accuracy,\n",
    "        'Worst class accuracy': lambda logits, targets: worst_class_accuracy(logits, targets),\n",
    "        'Worst-class precision': lambda logits, targets: worst_class_precision(logits, targets),\n",
    "        'Worst superclass-accuracy': lambda logits, targets: worst_intra_superclass_accuracy(logits, targets, superclasses),\n",
    "        'Worst superclass recall': lambda logits, targets: worst_superclass_recall(logits, targets, superclasses),\n",
    "        'Worst 10-class recall': lambda logits, targets: worst_heuristic_n_classes_recall(logits, targets, 10),\n",
    "        'Worst 100-class recall': lambda logits, targets: worst_heuristic_n_classes_recall(logits, targets, 100),\n",
    "        'Worst 2-class binary accuracy': lambda logits, targets: worst_balanced_two_class_binary_accuracy(logits, targets),\n",
    "        'Worst class top-5 accuracy': lambda logits, targets: worst_class_topk_accuracy(logits, targets, 5),\n",
    "        'Worst 10-class top-5 recall': lambda logits, targets: worst_heuristic_n_classes_topk_recall(logits, targets, 10, 5),\n",
    "        'Worst 100-class top-5 recall': lambda logits, targets: worst_heuristic_n_classes_topk_recall(logits, targets, 100, 5),\n",
    "    }\n",
    "\n",
    "    table = {k: v(logits[dataset], labels[dataset]) for k,v in table_entries.items()}\n",
    "    full_table[model_name] = table"
   ]
  },
  {
   "cell_type": "code",
   "execution_count": 60,
   "id": "71833553-9fd8-4c1d-8c84-ecbefdcd45fb",
   "metadata": {},
   "outputs": [],
   "source": [
    "dataset_tables[dataset] = full_table"
   ]
  },
  {
   "cell_type": "code",
   "execution_count": 61,
   "id": "4d8fa9b1-a099-40bf-bd59-d64cb3029628",
   "metadata": {},
   "outputs": [],
   "source": [
    "def class_number_to_name(x):\n",
    "    if x >= 0:\n",
    "        return classes[dataset][x]\n",
    "    else:\n",
    "        sc_idx = -(x+1)\n",
    "        return (superclass_names[sc_idx],)"
   ]
  },
  {
   "cell_type": "code",
   "execution_count": 62,
   "id": "6d7e2d5a-8e33-4a0c-810b-b96a94efec10",
   "metadata": {},
   "outputs": [],
   "source": [
    "def write_table_entry(a):\n",
    "    b = (lambda x: x if type(x) is tuple else (x,))(a)\n",
    "    value = f'{100*b[0]:.2f}'.zfill(5)\n",
    "    detail = ''\n",
    "    for e in b[1:]:\n",
    "        detail += ' ' + class_number_to_name(e)[0] #'/'.join(class_number_to_name(e))\n",
    "    return value + detail"
   ]
  },
  {
   "cell_type": "code",
   "execution_count": 63,
   "id": "4dccb7e9-11b2-43e3-b27a-3679fa6e5c5e",
   "metadata": {},
   "outputs": [],
   "source": [
    "latex_model_names = {\n",
    "    'resnet18': 'ResNet-18',\n",
    "    'resnet50': 'ResNet-50',\n",
    "    'vgg16': 'VGG16',\n",
    "    'vit_base_patch16_224': 'ViT base patch 16 224',\n",
    "}"
   ]
  },
  {
   "cell_type": "code",
   "execution_count": 64,
   "id": "3287b0b0-a8fc-48f8-8467-4f2178b648d1",
   "metadata": {},
   "outputs": [],
   "source": [
    "metric_latex_dict = {\n",
    "    'Standard accuracy': 'A',\n",
    "    'Worst class accuracy': 'WCA',\n",
    "    'Worst-class precision': 'WCP',\n",
    "    'Worst superclass-accuracy': 'WSupCA',\n",
    "    'Worst superclass recall': 'WSupCR',\n",
    "    'Worst 10-class recall': 'W10CR',\n",
    "    'Worst 100-class recall': 'W100CR',\n",
    "    'Worst 2-class binary accuracy': 'W2CA',\n",
    "    'Worst class top-5 accuracy': 'WCA@5',\n",
    "    'Worst 10-class top-5 recall': 'W10CR@5',\n",
    "    'Worst 100-class top-5 recall': 'W100CR@5',\n",
    "}"
   ]
  },
  {
   "cell_type": "code",
   "execution_count": 65,
   "id": "802d0164-153b-44d7-963a-ea44d1187963",
   "metadata": {},
   "outputs": [
    {
     "data": {
      "text/plain": [
       "{'resnet18': {'Standard accuracy': 0.69758,\n",
       "  'Worst class accuracy': (0.08, 836),\n",
       "  'Worst-class precision': (0.17142857142857143, 620),\n",
       "  'Worst superclass-accuracy': (0.732, -2),\n",
       "  'Worst superclass recall': (0.608, -2),\n",
       "  'Worst 10-class recall': 0.154,\n",
       "  'Worst 100-class recall': 0.341,\n",
       "  'Worst 2-class binary accuracy': (0.42, 620, 681),\n",
       "  'Worst class top-5 accuracy': (0.38, 885),\n",
       "  'Worst 10-class top-5 recall': 0.494,\n",
       "  'Worst 100-class top-5 recall': 0.681},\n",
       " 'resnet50': {'Standard accuracy': 0.7613,\n",
       "  'Worst class accuracy': (0.18, 638),\n",
       "  'Worst-class precision': (0.2391304347826087, 620),\n",
       "  'Worst superclass-accuracy': (0.756, -4),\n",
       "  'Worst superclass recall': (0.656, -2),\n",
       "  'Worst 10-class recall': 0.226,\n",
       "  'Worst 100-class recall': 0.4192,\n",
       "  'Worst 2-class binary accuracy': (0.44, 620, 681),\n",
       "  'Worst class top-5 accuracy': (0.52, 818),\n",
       "  'Worst 10-class top-5 recall': 0.632,\n",
       "  'Worst 100-class top-5 recall': 0.7744},\n",
       " 'vgg16': {'Standard accuracy': 0.71592,\n",
       "  'Worst class accuracy': (0.1, 885),\n",
       "  'Worst-class precision': (0.24390243902439024, 620),\n",
       "  'Worst superclass-accuracy': (0.724, -2),\n",
       "  'Worst superclass recall': (0.596, -2),\n",
       "  'Worst 10-class recall': 0.18,\n",
       "  'Worst 100-class recall': 0.3614,\n",
       "  'Worst 2-class binary accuracy': (0.46, 638, 639),\n",
       "  'Worst class top-5 accuracy': (0.36, 885),\n",
       "  'Worst 10-class top-5 recall': 0.52,\n",
       "  'Worst 100-class top-5 recall': 0.7022},\n",
       " 'vit_base_patch16_224': {'Standard accuracy': 0.84528,\n",
       "  'Worst class accuracy': (0.24, 282),\n",
       "  'Worst-class precision': (0.30303030303030304, 681),\n",
       "  'Worst superclass-accuracy': (0.776, -2),\n",
       "  'Worst superclass recall': (0.688, -2),\n",
       "  'Worst 10-class recall': 0.314,\n",
       "  'Worst 100-class recall': 0.5416,\n",
       "  'Worst 2-class binary accuracy': (0.4, 620, 681),\n",
       "  'Worst class top-5 accuracy': (0.68, 623),\n",
       "  'Worst 10-class top-5 recall': 0.806,\n",
       "  'Worst 100-class top-5 recall': 0.8948}}"
      ]
     },
     "execution_count": 65,
     "metadata": {},
     "output_type": "execute_result"
    }
   ],
   "source": [
    "full_table"
   ]
  },
  {
   "cell_type": "code",
   "execution_count": 66,
   "id": "4e3e6fb9-991b-4bec-bfd4-56c654af1b25",
   "metadata": {},
   "outputs": [],
   "source": [
    "def write_latex_table(full_table):\n",
    "    table_str = 'Model '.ljust(50)\n",
    "    for model_name in full_table.keys():\n",
    "        table_str += ' &   ' + latex_model_names[model_name].ljust(25)\n",
    "    table_str += r' \\\\ \\hline' + ' %' + dataset + '\\n'\n",
    "    for mk, mv in metric_latex_dict.items():\n",
    "        table_str += mv.ljust(50)\n",
    "        for model_name, v in full_table.items():\n",
    "            table_str += ' &   ' + write_table_entry(v[mk]).ljust(25)\n",
    "        table_str += r' \\\\' + '\\n'\n",
    "    return table_str"
   ]
  },
  {
   "cell_type": "code",
   "execution_count": 67,
   "id": "4052a2d1-0780-43cc-93d0-b0b488bf3c10",
   "metadata": {},
   "outputs": [
    {
     "data": {
      "text/plain": [
       "50000"
      ]
     },
     "execution_count": 67,
     "metadata": {},
     "output_type": "execute_result"
    }
   ],
   "source": [
    "len(logits[dataset])"
   ]
  },
  {
   "cell_type": "code",
   "execution_count": 68,
   "id": "69d648c5-176e-4063-8c51-b47b360af5ce",
   "metadata": {},
   "outputs": [
    {
     "name": "stdout",
     "output_type": "stream",
     "text": [
      "Model                                              &   ResNet-18                 &   ResNet-50                 &   VGG16                     &   ViT base patch 16 224     \\\\ \\hline %imagenet_val\n",
      "A                                                  &   69.76                     &   76.13                     &   71.59                     &   84.53                     \\\\\n",
      "WCA                                                &   08.00 sunglass            &   18.00 maillot             &   10.00 velvet              &   24.00 tiger cat           \\\\\n",
      "WCP                                                &   17.14 laptop              &   23.91 laptop              &   24.39 laptop              &   30.30 notebook            \\\\\n",
      "WSupCA                                             &   73.20 Cat                 &   75.60 Turtle              &   72.40 Cat                 &   77.60 Cat                 \\\\\n",
      "WSupCR                                             &   60.80 Cat                 &   65.60 Cat                 &   59.60 Cat                 &   68.80 Cat                 \\\\\n",
      "W10CR                                              &   15.40                     &   22.60                     &   18.00                     &   31.40                     \\\\\n",
      "W100CR                                             &   34.10                     &   41.92                     &   36.14                     &   54.16                     \\\\\n",
      "W2CA                                               &   42.00 laptop notebook     &   44.00 laptop notebook     &   46.00 maillot maillot     &   40.00 laptop notebook     \\\\\n",
      "WCA@5                                              &   38.00 velvet              &   52.00 spotlight           &   36.00 velvet              &   68.00 letter opener       \\\\\n",
      "W10CR@5                                            &   49.40                     &   63.20                     &   52.00                     &   80.60                     \\\\\n",
      "W100CR@5                                           &   68.10                     &   77.44                     &   70.22                     &   89.48                     \\\\\n",
      "\n"
     ]
    }
   ],
   "source": [
    "print(write_latex_table(dataset_tables[dataset]))"
   ]
  },
  {
   "cell_type": "code",
   "execution_count": null,
   "id": "dc220714-feb9-4299-a8d3-0cc8b4f286af",
   "metadata": {},
   "outputs": [],
   "source": []
  }
 ],
 "metadata": {
  "kernelspec": {
   "display_name": "Python 3 (ipykernel)",
   "language": "python",
   "name": "python3"
  },
  "language_info": {
   "codemirror_mode": {
    "name": "ipython",
    "version": 3
   },
   "file_extension": ".py",
   "mimetype": "text/x-python",
   "name": "python",
   "nbconvert_exporter": "python",
   "pygments_lexer": "ipython3",
   "version": "3.9.7"
  }
 },
 "nbformat": 4,
 "nbformat_minor": 5
}
