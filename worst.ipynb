{
 "cells": [
  {
   "cell_type": "code",
   "execution_count": 1,
   "id": "2a9ff487-b18a-4c26-bb36-d7a23d2e88db",
   "metadata": {},
   "outputs": [],
   "source": [
    "import inspect"
   ]
  },
  {
   "cell_type": "code",
   "execution_count": 2,
   "id": "9e2877f2-06a8-4ae6-86b9-b8455e5a23a7",
   "metadata": {},
   "outputs": [],
   "source": [
    "%load_ext autoreload\n",
    "%autoreload 2"
   ]
  },
  {
   "cell_type": "code",
   "execution_count": 3,
   "id": "2a1c6cd4-34fe-485f-9037-0ec924a94812",
   "metadata": {},
   "outputs": [],
   "source": [
    "import numpy as np\n",
    "import os\n",
    "import sys\n",
    "import matplotlib.pyplot as plt\n",
    "from sklearn import decomposition\n",
    "from scipy.stats import norm\n",
    "import scipy.stats\n",
    "from sklearn.manifold import TSNE\n",
    "import seaborn as sns\n",
    "from pathlib import Path\n",
    "import collections\n",
    "import itertools\n",
    "from numpy import linalg as LA"
   ]
  },
  {
   "cell_type": "code",
   "execution_count": 4,
   "id": "bee428c7-25a9-476e-a01d-65914163f69f",
   "metadata": {},
   "outputs": [],
   "source": [
    "def get_predictions(logits:np.ndarray) -> np.ndarray:\n",
    "    preds = {'logits': logits,\n",
    "             'predicted_classes': logits.argmax(axis=1),\n",
    "             'class_probabilities': scipy.special.softmax(logits, axis=1),\n",
    "             'confidences_classifier': scipy.special.softmax(logits, axis=1).max(axis=1),\n",
    "            }\n",
    "    preds['number_of_class_predictions'] = collections.Counter(preds['predicted_classes'])\n",
    "    return preds"
   ]
  },
  {
   "cell_type": "code",
   "execution_count": 5,
   "id": "a1764505-3fe1-4910-8bd0-e3ba366d2ada",
   "metadata": {},
   "outputs": [],
   "source": [
    "features, logits, labels, classes = {}, {}, {}, {}"
   ]
  },
  {
   "cell_type": "code",
   "execution_count": 6,
   "id": "df5f92c4-5ea1-483e-aa0d-4455cec49c07",
   "metadata": {},
   "outputs": [],
   "source": [
    "mod = ''\n",
    "model_name = f\"resnet18{mod}\""
   ]
  },
  {
   "cell_type": "code",
   "execution_count": 7,
   "id": "2e6f26f5-36a9-4f32-a351-0fd4b6774b58",
   "metadata": {},
   "outputs": [],
   "source": [
    "logits, labels, classes = {}, {}, {}"
   ]
  },
  {
   "cell_type": "code",
   "execution_count": 8,
   "id": "0b2ed0a6-ecfc-49da-970a-0ec70cf30898",
   "metadata": {},
   "outputs": [],
   "source": [
    "outputs_load_paths = [f'outputs/{model_name}', f'/mnt/SHARED/Julian/feature_density_ood/notebooks/outputs/{model_name}']"
   ]
  },
  {
   "cell_type": "code",
   "execution_count": 9,
   "id": "aed643d4-93fa-4f49-aa8f-3d64bcedf797",
   "metadata": {},
   "outputs": [],
   "source": [
    "def load_outputs(*dset_names):\n",
    "    for dset_name in dset_names:\n",
    "        for path in outputs_load_paths:\n",
    "            filename = os.path.join(path, f'{dset_name}.npz')\n",
    "            if os.path.exists(filename):\n",
    "                print(filename)\n",
    "                outputs = np.load(filename, allow_pickle=True)\n",
    "                break\n",
    "        else:\n",
    "            raise FileNotFoundError(f'{dset_name}.npz')\n",
    "        for d in ['logits', 'labels', 'classes']:\n",
    "           globals()[d][dset_name] = outputs[d]"
   ]
  },
  {
   "cell_type": "code",
   "execution_count": 10,
   "id": "d8eb008a-3f60-45c2-ab5b-32b2b9efbb29",
   "metadata": {},
   "outputs": [
    {
     "name": "stdout",
     "output_type": "stream",
     "text": [
      "outputs/resnet18/imagenet_val.npz\n"
     ]
    }
   ],
   "source": [
    "load_outputs('imagenet_val')"
   ]
  },
  {
   "cell_type": "code",
   "execution_count": 11,
   "id": "d64d1600-5be6-4f96-84fc-a0f14e8e707f",
   "metadata": {},
   "outputs": [],
   "source": [
    "predictions_IN_val = get_predictions(logits['imagenet_val'])"
   ]
  },
  {
   "cell_type": "code",
   "execution_count": 12,
   "id": "e76e185f-03b4-4c01-86ce-d8b7d36bdafa",
   "metadata": {},
   "outputs": [
    {
     "data": {
      "text/plain": [
       "array([ 48,   0, 391, ..., 999, 333, 999])"
      ]
     },
     "execution_count": 12,
     "metadata": {},
     "output_type": "execute_result"
    }
   ],
   "source": [
    "predictions_IN_val['predicted_classes']"
   ]
  },
  {
   "cell_type": "code",
   "execution_count": 13,
   "id": "e54515d6-4eac-4d25-b0b2-c6d2dc0a2de1",
   "metadata": {},
   "outputs": [],
   "source": [
    "def standard_accuracy(logits, targets):\n",
    "    preds = get_predictions(logits)\n",
    "    accuracy = (preds['predicted_classes'] == targets).mean()\n",
    "    return accuracy"
   ]
  },
  {
   "cell_type": "code",
   "execution_count": 14,
   "id": "76c9e9c1-c611-44d5-9bed-7f4942dca07a",
   "metadata": {},
   "outputs": [],
   "source": [
    "def classwise_accuracies(logits, targets):\n",
    "    preds = get_predictions(logits)\n",
    "    clw_acc = {}\n",
    "    for i in set(targets):\n",
    "        clw_acc[i] = np.equal(preds['predicted_classes'][np.where(targets == i)], i).mean()\n",
    "    return clw_acc"
   ]
  },
  {
   "cell_type": "code",
   "execution_count": 15,
   "id": "52e20052-c6cc-42ff-a7d0-2202f43d16f3",
   "metadata": {},
   "outputs": [],
   "source": [
    "def classwise_topk_accuracies(logits, targets, k):\n",
    "    preds = get_predictions(logits)\n",
    "    clw_topk_acc = {}\n",
    "    for i in set(targets):\n",
    "        clw_topk_acc[i] = np.equal(i, np.argsort(preds['class_probabilities'][np.where(targets == i)], axis=1)[:,-k:]).sum(axis=-1).mean()\n",
    "    return clw_topk_acc"
   ]
  },
  {
   "cell_type": "code",
   "execution_count": 16,
   "id": "9bd4c137-8c58-4fb5-a887-7563b14aac0b",
   "metadata": {},
   "outputs": [],
   "source": [
    "def standard_balanced_topk_accuracy(logits, targets, k):\n",
    "    clw_topk_acc = classwise_topk_accuracies(logits, targets, k)\n",
    "    return np.array(list(clw_topk_acc.values())).mean()"
   ]
  },
  {
   "cell_type": "code",
   "execution_count": 17,
   "id": "0e683e51-4c72-4457-a51d-a788fcdfa84a",
   "metadata": {},
   "outputs": [],
   "source": [
    "def worst_class_accuracy(logits, targets):\n",
    "    cwa = classwise_accuracies(logits, targets)\n",
    "    return min(cwa.items(), key=lambda x: x[1])"
   ]
  },
  {
   "cell_type": "code",
   "execution_count": 18,
   "id": "6485cad1-104b-49e4-aa36-38496f22626d",
   "metadata": {},
   "outputs": [],
   "source": [
    "def worst_class_topk_accuracy(logits, targets,k):\n",
    "    clw_topk_acc = classwise_topk_accuracies(logits, targets, k)\n",
    "    return min(clw_topk_acc.items(), key=lambda x: x[1])"
   ]
  },
  {
   "cell_type": "code",
   "execution_count": 19,
   "id": "2bd2d556-2502-47d9-aef5-51e63600540e",
   "metadata": {},
   "outputs": [],
   "source": [
    "def worst_balanced_n_classes_accuracy(logits, targets, n):\n",
    "    cwa = classwise_accuracies(logits, targets)\n",
    "    sorted_cwa =  sorted(cwa.items(), key=lambda item: item[1])\n",
    "    n_worst = sorted_cwa[:n]\n",
    "    return np.array([x[1] for x in n_worst]).mean(), n_worst"
   ]
  },
  {
   "cell_type": "code",
   "execution_count": 20,
   "id": "cfa6759a-c43d-439e-9ab2-ccf7d8184ab1",
   "metadata": {},
   "outputs": [],
   "source": [
    "def worst_balanced_n_classes_topk_accuracy(logits, targets, n, k):\n",
    "    clw_topk_acc = classwise_topk_accuracies(logits, targets, k)\n",
    "    sorted_clw_topk_acc =  sorted(clw_topk_acc.items(), key=lambda item: item[1])\n",
    "    n_worst = sorted_clw_topk_acc[:n]\n",
    "    return np.array([x[1] for x in n_worst]).mean(), n_worst"
   ]
  },
  {
   "cell_type": "code",
   "execution_count": 21,
   "id": "76509e3f-4470-401c-9b90-f922fee53dce",
   "metadata": {},
   "outputs": [],
   "source": [
    "def worst_balanced_two_class_binary_accuracy(logits, targets):\n",
    "    classes = list(set(targets))\n",
    "    binary_accuracies = {}\n",
    "    for i,j in itertools.combinations(classes, 2):\n",
    "        i_labelled = logits[np.where(targets == i)]\n",
    "        j_labelled = logits[np.where(targets == j)]\n",
    "        i_correct = np.greater(i_labelled[:,i], i_labelled[:,j]).mean()\n",
    "        j_correct = np.greater(j_labelled[:,j], j_labelled[:,i]).mean()\n",
    "        binary_accuracies[(i,j)] = (i_correct + j_correct)/2\n",
    "    sorted_binary_accuracies = sorted(binary_accuracies.items(), key=lambda item: item[1])\n",
    "    return sorted_binary_accuracies[0][1], sorted_binary_accuracies[0], sorted_binary_accuracies, binary_accuracies"
   ]
  },
  {
   "cell_type": "code",
   "execution_count": 22,
   "id": "75c1630e-0133-4cf0-9349-9ec5a4c8cbfb",
   "metadata": {},
   "outputs": [],
   "source": [
    "def worst_balanced_superclass_recall(logits, targets, superclasses):\n",
    "    cwa = classwise_accuracies(logits, targets)\n",
    "    scwa = {i: np.array([cwa[c] for c in s]).mean() for i,s in enumerate(superclasses)}\n",
    "    return min(scwa.items(), key=lambda x: x[1])"
   ]
  },
  {
   "cell_type": "code",
   "execution_count": 23,
   "id": "f10cead4-7535-4de0-9492-d2a6f728db5a",
   "metadata": {},
   "outputs": [],
   "source": [
    "def inter_superclass_accuracies(logits, targets, superclasses):\n",
    "    isa = {}\n",
    "    for i,s in enumerate(superclasses):\n",
    "        internal_samples = np.isin(targets, s)\n",
    "        internal_targets = targets[internal_samples]\n",
    "        internal_logits = logits[internal_samples][:,s]\n",
    "        s_targets = np.vectorize(lambda x: s[x])\n",
    "        internal_preds = s_targets(get_predictions(internal_logits)['predicted_classes'])\n",
    "        isa[i] = (internal_preds == internal_targets).mean()\n",
    "    return isa"
   ]
  },
  {
   "cell_type": "code",
   "execution_count": 24,
   "id": "53f1cfeb-c611-4ae7-aabd-0a9b24d6e8a2",
   "metadata": {},
   "outputs": [],
   "source": [
    "def worst_balanced_inter_superclass_accuracy(logits, targets, superclasses):\n",
    "    isa = inter_superclass_accuracies(logits, targets, superclasses)\n",
    "    return min(isa.items(), key=lambda x: x[1])"
   ]
  },
  {
   "cell_type": "code",
   "execution_count": 25,
   "id": "6690a093-ae08-4a01-9d71-8fb0bdf65c38",
   "metadata": {},
   "outputs": [],
   "source": [
    "def worst_class_precision(logits, targets):\n",
    "    preds = get_predictions(logits)\n",
    "    classes = list(set(targets))\n",
    "    sc = {}\n",
    "    for c in classes:\n",
    "        erroneous_c = (preds['predicted_classes'] == c)*(targets != c)\n",
    "        correct_c = (preds['predicted_classes'] == c)*(targets == c)\n",
    "        predicted_c = (preds['predicted_classes'] == c)\n",
    "        if predicted_c.sum():\n",
    "            sc[c] = correct_c.sum()/predicted_c.sum() #1-erroneous_c.sum()/predicted_c.sum()\n",
    "        else:\n",
    "            sc[c] = 1\n",
    "    sorted_sc = sorted(sc.items(), key=lambda item: item[1])\n",
    "    return sorted_sc[0]"
   ]
  },
  {
   "cell_type": "code",
   "execution_count": 26,
   "id": "d914f8d6-a1ac-47c9-9cc2-51d1f85c8464",
   "metadata": {},
   "outputs": [],
   "source": [
    "def class_confusion(logits, targets):\n",
    "    preds = get_predictions(logits)\n",
    "    classes = list(set(targets))\n",
    "    confusion = np.zeros((len(classes), len(classes)))\n",
    "    for i,c in enumerate(targets):\n",
    "        confusion[c, preds['predicted_classes'][i]] += 1\n",
    "    return confusion"
   ]
  },
  {
   "cell_type": "code",
   "execution_count": 27,
   "id": "1a14b6c1-74e8-48a5-b8c6-fb298cdb8ebc",
   "metadata": {},
   "outputs": [
    {
     "data": {
      "text/plain": [
       "array([ 48,   0, 391,   0,   0,   0,   0,   0,   0,   0, 133,   0,   0,\n",
       "         0,   0,   0,   0,   0,   0,   0,   0,   0,   0,   0,   0,   0,\n",
       "         0,   0,   0,   0,   0,   0, 391,   0,   0, 389,  33,   0,   0,\n",
       "         0,   0,   0,   0,   0,   0,   0,   0,   0,   0,   0])"
      ]
     },
     "execution_count": 27,
     "metadata": {},
     "output_type": "execute_result"
    }
   ],
   "source": [
    "predictions_IN_val['predicted_classes'][np.where(labels['imagenet_val'] == 0)]"
   ]
  },
  {
   "cell_type": "code",
   "execution_count": 28,
   "id": "92d96dd3-4c59-4f06-9b07-71b70133ac42",
   "metadata": {},
   "outputs": [
    {
     "data": {
      "text/plain": [
       "0.69758"
      ]
     },
     "execution_count": 28,
     "metadata": {},
     "output_type": "execute_result"
    }
   ],
   "source": [
    "standard_accuracy(logits['imagenet_val'], labels['imagenet_val'])"
   ]
  },
  {
   "cell_type": "code",
   "execution_count": 29,
   "id": "ca2cf719-9a7e-4459-a749-fe115a7982fe",
   "metadata": {},
   "outputs": [],
   "source": [
    "cwa = classwise_accuracies(logits['imagenet_val'], labels['imagenet_val'])"
   ]
  },
  {
   "cell_type": "code",
   "execution_count": 30,
   "id": "74183fa7-1af2-4165-a1a1-cf3f314a8c64",
   "metadata": {},
   "outputs": [
    {
     "data": {
      "text/plain": [
       "0.69758"
      ]
     },
     "execution_count": 30,
     "metadata": {},
     "output_type": "execute_result"
    }
   ],
   "source": [
    "np.array(list(cwa.values())).mean()"
   ]
  },
  {
   "cell_type": "code",
   "execution_count": 31,
   "id": "6d5ddae8-406c-4588-9a8c-c44901c7bdc2",
   "metadata": {},
   "outputs": [
    {
     "data": {
      "text/plain": [
       "(836, 0.08)"
      ]
     },
     "execution_count": 31,
     "metadata": {},
     "output_type": "execute_result"
    }
   ],
   "source": [
    "worst_class_accuracy(logits['imagenet_val'], labels['imagenet_val'])"
   ]
  },
  {
   "cell_type": "code",
   "execution_count": 32,
   "id": "67ae5481-e8cf-4b50-8d70-cb7f6f06c9ce",
   "metadata": {},
   "outputs": [],
   "source": [
    "clw_top5_acc = classwise_topk_accuracies(logits['imagenet_val'], labels['imagenet_val'], 5)"
   ]
  },
  {
   "cell_type": "code",
   "execution_count": 33,
   "id": "b8276112-28c4-4b15-afe1-906251c00330",
   "metadata": {},
   "outputs": [
    {
     "data": {
      "text/plain": [
       "0.89078"
      ]
     },
     "execution_count": 33,
     "metadata": {},
     "output_type": "execute_result"
    }
   ],
   "source": [
    "np.array(list(clw_top5_acc.values())).mean()"
   ]
  },
  {
   "cell_type": "code",
   "execution_count": 34,
   "id": "427ec59c-8e5d-4dbb-88c3-96d91a43f195",
   "metadata": {},
   "outputs": [
    {
     "data": {
      "text/plain": [
       "0.89078"
      ]
     },
     "execution_count": 34,
     "metadata": {},
     "output_type": "execute_result"
    }
   ],
   "source": [
    "standard_balanced_topk_accuracy(logits['imagenet_val'], labels['imagenet_val'], 5)"
   ]
  },
  {
   "cell_type": "code",
   "execution_count": 35,
   "id": "b1aa704a-7f44-4483-9973-5fe3dfbd82a5",
   "metadata": {},
   "outputs": [
    {
     "data": {
      "text/plain": [
       "(885, 0.38)"
      ]
     },
     "execution_count": 35,
     "metadata": {},
     "output_type": "execute_result"
    }
   ],
   "source": [
    "worst_class_topk_accuracy(logits['imagenet_val'], labels['imagenet_val'], 5)"
   ]
  },
  {
   "cell_type": "code",
   "execution_count": 36,
   "id": "f4d2aef8-4323-4d3b-87a6-bc4bc06f325c",
   "metadata": {},
   "outputs": [
    {
     "data": {
      "text/plain": [
       "(0.15399999999999997,\n",
       " [(836, 0.08),\n",
       "  (282, 0.12),\n",
       "  (620, 0.12),\n",
       "  (885, 0.12),\n",
       "  (585, 0.18),\n",
       "  (600, 0.18),\n",
       "  (618, 0.18),\n",
       "  (813, 0.18),\n",
       "  (906, 0.18),\n",
       "  (638, 0.2)])"
      ]
     },
     "execution_count": 36,
     "metadata": {},
     "output_type": "execute_result"
    }
   ],
   "source": [
    "worst_balanced_n_classes_accuracy(logits['imagenet_val'], labels['imagenet_val'], 10)"
   ]
  },
  {
   "cell_type": "code",
   "execution_count": 37,
   "id": "511c7a36-bec3-48a5-9c2b-2a7cb3fe3ea2",
   "metadata": {},
   "outputs": [
    {
     "data": {
      "text/plain": [
       "0.34099999999999986"
      ]
     },
     "execution_count": 37,
     "metadata": {},
     "output_type": "execute_result"
    }
   ],
   "source": [
    "worst_balanced_n_classes_accuracy(logits['imagenet_val'], labels['imagenet_val'], 100)[0]"
   ]
  },
  {
   "cell_type": "code",
   "execution_count": 38,
   "id": "1eee8af7-9ffa-481a-b7a6-9c04eb99f475",
   "metadata": {},
   "outputs": [
    {
     "data": {
      "text/plain": [
       "0.49400000000000005"
      ]
     },
     "execution_count": 38,
     "metadata": {},
     "output_type": "execute_result"
    }
   ],
   "source": [
    "worst_balanced_n_classes_topk_accuracy(logits['imagenet_val'], labels['imagenet_val'], 10, 5)[0]"
   ]
  },
  {
   "cell_type": "code",
   "execution_count": 39,
   "id": "7f9c07db-5d87-4da4-98d3-660a622f2135",
   "metadata": {},
   "outputs": [
    {
     "data": {
      "text/plain": [
       "0.6810000000000003"
      ]
     },
     "execution_count": 39,
     "metadata": {},
     "output_type": "execute_result"
    }
   ],
   "source": [
    "worst_balanced_n_classes_topk_accuracy(logits['imagenet_val'], labels['imagenet_val'], 100, 5)[0]"
   ]
  },
  {
   "cell_type": "raw",
   "id": "f7fcf8da-6ed5-46a2-a28c-0223d39a0edf",
   "metadata": {},
   "source": [
    "wbtcba = worst_balanced_two_class_binary_accuracy(logits['imagenet_val'], labels['imagenet_val'])"
   ]
  },
  {
   "cell_type": "raw",
   "id": "e8ab2ecc-93a9-486e-8836-e6fb4236bbb4",
   "metadata": {},
   "source": [
    "wbtcba[:2]"
   ]
  },
  {
   "cell_type": "raw",
   "id": "79ad416f-a05c-4d96-9aaf-4b4d1ed70e95",
   "metadata": {},
   "source": [
    "superclasses = [range(100*i, 100*(i+1)) for i in range(10)]"
   ]
  },
  {
   "cell_type": "code",
   "execution_count": 40,
   "id": "2ab8cc33-3916-4e6f-8066-68f44fc360e3",
   "metadata": {},
   "outputs": [],
   "source": [
    "superclass_list = np.genfromtxt('restricted_superclass.csv', delimiter=',', dtype='i8')"
   ]
  },
  {
   "cell_type": "code",
   "execution_count": 41,
   "id": "14373802-a395-4d19-93b1-75872a45068e",
   "metadata": {},
   "outputs": [],
   "source": [
    "superclasses = [tuple(np.where(superclass_list == i)[0]) for i in range(0,9)]"
   ]
  },
  {
   "cell_type": "code",
   "execution_count": 42,
   "id": "e5e2ecaa-fe5a-41e7-8840-d210b5c8a94e",
   "metadata": {},
   "outputs": [],
   "source": [
    "superclass_names = ['Dog', 'Cat', 'Frog', 'Turtle', 'Bird', 'Monkey', 'Fish', 'Crab', 'Insect', '', 'Other']"
   ]
  },
  {
   "cell_type": "code",
   "execution_count": 43,
   "id": "70b95cad-283d-4edd-bba1-b7033c164445",
   "metadata": {},
   "outputs": [
    {
     "data": {
      "text/plain": [
       "203"
      ]
     },
     "execution_count": 43,
     "metadata": {},
     "output_type": "execute_result"
    }
   ],
   "source": [
    "sum([len(x) for x in superclasses])"
   ]
  },
  {
   "cell_type": "code",
   "execution_count": 44,
   "id": "11d263fb-b412-4889-8bed-9e2b0369f802",
   "metadata": {},
   "outputs": [
    {
     "data": {
      "text/plain": [
       "797"
      ]
     },
     "execution_count": 44,
     "metadata": {},
     "output_type": "execute_result"
    }
   ],
   "source": [
    "len(np.where(superclass_list == 10)[0])"
   ]
  },
  {
   "cell_type": "code",
   "execution_count": 45,
   "id": "5d8c446d-9476-4939-9159-6ebf6c0a0d20",
   "metadata": {},
   "outputs": [
    {
     "data": {
      "text/plain": [
       "(1, 0.608)"
      ]
     },
     "execution_count": 45,
     "metadata": {},
     "output_type": "execute_result"
    }
   ],
   "source": [
    "worst_balanced_superclass_recall(logits['imagenet_val'], labels['imagenet_val'], superclasses)"
   ]
  },
  {
   "cell_type": "code",
   "execution_count": 46,
   "id": "35b2eb2b-2c32-4489-805b-235c2ee95951",
   "metadata": {},
   "outputs": [
    {
     "data": {
      "text/plain": [
       "{0: 0.7359322033898306,\n",
       " 1: 0.732,\n",
       " 2: 0.7733333333333333,\n",
       " 3: 0.756,\n",
       " 4: 0.9114285714285715,\n",
       " 5: 0.76,\n",
       " 6: 0.86,\n",
       " 7: 0.79,\n",
       " 8: 0.78}"
      ]
     },
     "execution_count": 46,
     "metadata": {},
     "output_type": "execute_result"
    }
   ],
   "source": [
    "inter_superclass_accuracies(logits['imagenet_val'], labels['imagenet_val'], superclasses)"
   ]
  },
  {
   "cell_type": "code",
   "execution_count": 70,
   "id": "513797e0-42eb-4069-9edb-d9f673a24fb4",
   "metadata": {},
   "outputs": [
    {
     "data": {
      "text/plain": [
       "'Cat'"
      ]
     },
     "execution_count": 70,
     "metadata": {},
     "output_type": "execute_result"
    }
   ],
   "source": [
    "superclass_names[1]"
   ]
  },
  {
   "cell_type": "code",
   "execution_count": 47,
   "id": "5e9f2f03-bdab-45c1-908a-64c04b6ad9a4",
   "metadata": {},
   "outputs": [
    {
     "data": {
      "text/plain": [
       "(1, 0.732)"
      ]
     },
     "execution_count": 47,
     "metadata": {},
     "output_type": "execute_result"
    }
   ],
   "source": [
    "worst_balanced_inter_superclass_accuracy(logits['imagenet_val'], labels['imagenet_val'], superclasses)"
   ]
  },
  {
   "cell_type": "code",
   "execution_count": 48,
   "id": "35bf488c-a3af-494d-b7b8-f3445a9556d4",
   "metadata": {},
   "outputs": [
    {
     "data": {
      "text/plain": [
       "(620, 0.17142857142857143)"
      ]
     },
     "execution_count": 48,
     "metadata": {},
     "output_type": "execute_result"
    }
   ],
   "source": [
    "worst_class_precision(logits['imagenet_val'], labels['imagenet_val'])"
   ]
  },
  {
   "cell_type": "code",
   "execution_count": 49,
   "id": "6cfd46bc-c0a6-45b9-bd4c-54104ffd7a79",
   "metadata": {},
   "outputs": [],
   "source": [
    "confusion_full = class_confusion(logits['imagenet_val'], labels['imagenet_val'])"
   ]
  },
  {
   "cell_type": "code",
   "execution_count": 50,
   "id": "283ebdf2-e942-43af-a351-b4cbf6c083de",
   "metadata": {},
   "outputs": [
    {
     "data": {
      "text/plain": [
       "0.69758"
      ]
     },
     "execution_count": 50,
     "metadata": {},
     "output_type": "execute_result"
    }
   ],
   "source": [
    "np.trace(confusion_full)/np.sum(confusion_full)"
   ]
  },
  {
   "cell_type": "code",
   "execution_count": 51,
   "id": "6aba6feb-a59a-4797-884d-ba3f1c1427ef",
   "metadata": {},
   "outputs": [],
   "source": [
    "confusion_normalized = confusion_full/confusion_full.sum(axis=1)"
   ]
  },
  {
   "cell_type": "code",
   "execution_count": 52,
   "id": "d40fa87a-c3fc-487b-83c2-a5c854816feb",
   "metadata": {},
   "outputs": [
    {
     "data": {
      "text/plain": [
       "0.69758"
      ]
     },
     "execution_count": 52,
     "metadata": {},
     "output_type": "execute_result"
    }
   ],
   "source": [
    "confusion_normalized.trace()/len(confusion_normalized)"
   ]
  },
  {
   "cell_type": "code",
   "execution_count": 53,
   "id": "1be9dee8-78d3-4486-b690-4683e1c81b6e",
   "metadata": {},
   "outputs": [
    {
     "data": {
      "text/plain": [
       "0.69758"
      ]
     },
     "execution_count": 53,
     "metadata": {},
     "output_type": "execute_result"
    }
   ],
   "source": [
    "confusion_normalized.trace()/len(confusion_normalized)"
   ]
  },
  {
   "cell_type": "code",
   "execution_count": 54,
   "id": "b2cb81f0-3179-41b3-9ae1-3d7bff3c9940",
   "metadata": {},
   "outputs": [],
   "source": [
    "confusion_normalized_errors = np.copy(confusion_normalized)\n",
    "np.fill_diagonal(confusion_normalized_errors, 0)"
   ]
  },
  {
   "cell_type": "code",
   "execution_count": 55,
   "id": "54163969-753b-40af-a321-de6bf87ab249",
   "metadata": {},
   "outputs": [
    {
     "data": {
      "text/plain": [
       "0.30242000000000013"
      ]
     },
     "execution_count": 55,
     "metadata": {},
     "output_type": "execute_result"
    }
   ],
   "source": [
    "confusion_normalized_errors.sum()/len(confusion_normalized_errors) #standard error"
   ]
  },
  {
   "cell_type": "code",
   "execution_count": 56,
   "id": "a37e9a7b-2f3d-43a0-98ea-1ce0c2ba69f4",
   "metadata": {},
   "outputs": [
    {
     "data": {
      "text/plain": [
       "1.2800000000000007"
      ]
     },
     "execution_count": 56,
     "metadata": {},
     "output_type": "execute_result"
    }
   ],
   "source": [
    "LA.norm(confusion_normalized_errors, 1)"
   ]
  },
  {
   "cell_type": "code",
   "execution_count": 57,
   "id": "cb00a8a7-cb11-47e3-af3f-86c94473691e",
   "metadata": {},
   "outputs": [
    {
     "data": {
      "text/plain": [
       "0.9199999999999999"
      ]
     },
     "execution_count": 57,
     "metadata": {},
     "output_type": "execute_result"
    }
   ],
   "source": [
    "LA.norm(confusion_normalized_errors, np.inf) #worst class error"
   ]
  },
  {
   "cell_type": "code",
   "execution_count": 58,
   "id": "b939fea2-2171-4d86-b2ad-ab9d09e7b7ce",
   "metadata": {},
   "outputs": [
    {
     "data": {
      "text/plain": [
       "0.6681436581563724"
      ]
     },
     "execution_count": 58,
     "metadata": {},
     "output_type": "execute_result"
    }
   ],
   "source": [
    "LA.norm(confusion_normalized_errors, 2)"
   ]
  },
  {
   "cell_type": "code",
   "execution_count": 59,
   "id": "2bc6c791-7163-4cee-86f7-a6dcd51ab26d",
   "metadata": {},
   "outputs": [
    {
     "data": {
      "text/plain": [
       "0.303030303030303"
      ]
     },
     "execution_count": 59,
     "metadata": {},
     "output_type": "execute_result"
    }
   ],
   "source": [
    "1 - .696969696969697"
   ]
  },
  {
   "cell_type": "code",
   "execution_count": 60,
   "id": "7e84bda9-3f6a-4e30-8391-6bb91cb4335c",
   "metadata": {},
   "outputs": [
    {
     "data": {
      "text/plain": [
       "0.64"
      ]
     },
     "execution_count": 60,
     "metadata": {},
     "output_type": "execute_result"
    }
   ],
   "source": [
    "np.max(confusion_normalized_errors)"
   ]
  },
  {
   "cell_type": "code",
   "execution_count": 61,
   "id": "9a6bee01-66bd-40b6-b8cc-269cfe2eba4e",
   "metadata": {},
   "outputs": [
    {
     "data": {
      "text/plain": [
       "(620, 681)"
      ]
     },
     "execution_count": 61,
     "metadata": {},
     "output_type": "execute_result"
    }
   ],
   "source": [
    "np.unravel_index(np.argmax(confusion_normalized_errors), confusion_normalized_errors.shape)"
   ]
  },
  {
   "cell_type": "code",
   "execution_count": 67,
   "id": "0de79ccc-6ef2-4852-ac82-2fc9c9e2304e",
   "metadata": {},
   "outputs": [],
   "source": [
    "model_names = ['resnet18', 'resnet50', 'vgg16', 'vit_base_patch16_224']"
   ]
  },
  {
   "cell_type": "code",
   "execution_count": 68,
   "id": "6318fd9f-99e5-4dfd-a80e-5021ea4235ca",
   "metadata": {},
   "outputs": [],
   "source": [
    "table = {}"
   ]
  },
  {
   "cell_type": "code",
   "execution_count": 69,
   "id": "98b52dbf-0bed-48a2-88b3-1044fde1e925",
   "metadata": {},
   "outputs": [
    {
     "name": "stdout",
     "output_type": "stream",
     "text": [
      "outputs/resnet18/imagenet_val.npz\n",
      "outputs/resnet18/imagenet_val.npz\n",
      "outputs/resnet18/imagenet_val.npz\n",
      "outputs/resnet18/imagenet_val.npz\n"
     ]
    }
   ],
   "source": [
    "for model in model_names:\n",
    "    logits, labels, classes = {}, {}, {}\n",
    "\n",
    "    outputs_load_paths = [f'outputs/{model_name}', f'/mnt/SHARED/Julian/feature_density_ood/notebooks/outputs/{model_name}']\n",
    "\n",
    "    load_outputs('imagenet_val')\n",
    "\n",
    "    table_entries = {\n",
    "        'Standard accuracy': standard_accuracy,\n",
    "        'Worst class accuracy': lambda logits, targets: worst_class_accuracy(logits, targets)[1],\n",
    "        'Worst superclass recall': lambda logits, targets: worst_balanced_superclass_recall(logits, targets, superclasses)[1],\n",
    "        'Worst intra-superclass accuracy': lambda logits, targets: worst_balanced_inter_superclass_accuracy(logits, targets, superclasses)[1],\n",
    "        'Worst 10-classes accuracy:': lambda logits, targets: worst_balanced_n_classes_accuracy(logits, targets, 10)[0],\n",
    "        'Worst 100-classes accuracy:': lambda logits, targets: worst_balanced_n_classes_accuracy(logits, targets, 100)[0],\n",
    "        'Worst class top-5 accuracy:': lambda logits, targets: worst_class_topk_accuracy(logits, targets, 5)[1],\n",
    "        'Worst 100-classes top-5 accuracy:': lambda logits, targets: worst_balanced_n_classes_topk_accuracy(logits, targets, 100, 5)[0],\n",
    "        'Worst class precision': lambda logits, targets: worst_class_precision(logits, targets)[1],\n",
    "        'Worst 2-class binary accuracy': lambda logits, targets: worst_balanced_two_class_binary_accuracy(logits, targets)[0],\n",
    "    }\n",
    "\n",
    "    table = {k: v(logits['imagenet_val'], labels['imagenet_val']) for k,v in table_entries.items()}\n",
    "\n",
    "    table_str = f'{model_name}\\n'\n",
    "    for k,v in table.items():\n",
    "        table_str += f'{k:<40}{100*v:.2F}\\n'\n",
    "\n",
    "    table[model_name] = table_str"
   ]
  },
  {
   "cell_type": "code",
   "execution_count": null,
   "id": "60d02f8b-8c5b-4cec-aa16-d79b472f0a0c",
   "metadata": {},
   "outputs": [],
   "source": []
  }
 ],
 "metadata": {
  "kernelspec": {
   "display_name": "Python 3 (ipykernel)",
   "language": "python",
   "name": "python3"
  },
  "language_info": {
   "codemirror_mode": {
    "name": "ipython",
    "version": 3
   },
   "file_extension": ".py",
   "mimetype": "text/x-python",
   "name": "python",
   "nbconvert_exporter": "python",
   "pygments_lexer": "ipython3",
   "version": "3.9.7"
  }
 },
 "nbformat": 4,
 "nbformat_minor": 5
}
